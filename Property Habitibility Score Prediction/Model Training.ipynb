{
 "cells": [
  {
   "cell_type": "markdown",
   "id": "7329a3e5",
   "metadata": {},
   "source": [
    "# 1. Import Library"
   ]
  },
  {
   "cell_type": "code",
   "execution_count": 1,
   "id": "fe211a57",
   "metadata": {},
   "outputs": [],
   "source": [
    "import numpy as np\n",
    "import pandas as pd\n",
    "import pickle\n",
    "\n",
    "import warnings\n",
    "warnings.filterwarnings(\"ignore\")\n",
    "\n",
    "from sklearn.preprocessing import OneHotEncoder\n",
    "from xgboost.sklearn import XGBRegressor\n",
    "from sklearn.model_selection import GridSearchCV\n",
    "from sklearn.preprocessing import StandardScaler"
   ]
  },
  {
   "cell_type": "markdown",
   "id": "dbd10f5a",
   "metadata": {},
   "source": [
    "# 2. Read Train and Test data"
   ]
  },
  {
   "cell_type": "code",
   "execution_count": 2,
   "id": "75a1e9cf",
   "metadata": {},
   "outputs": [],
   "source": [
    "train = pd.read_csv(\"data/train.csv\", index_col = 0)"
   ]
  },
  {
   "cell_type": "code",
   "execution_count": 3,
   "id": "f35274cb",
   "metadata": {},
   "outputs": [
    {
     "data": {
      "text/html": [
       "<div>\n",
       "<style scoped>\n",
       "    .dataframe tbody tr th:only-of-type {\n",
       "        vertical-align: middle;\n",
       "    }\n",
       "\n",
       "    .dataframe tbody tr th {\n",
       "        vertical-align: top;\n",
       "    }\n",
       "\n",
       "    .dataframe thead th {\n",
       "        text-align: right;\n",
       "    }\n",
       "</style>\n",
       "<table border=\"1\" class=\"dataframe\">\n",
       "  <thead>\n",
       "    <tr style=\"text-align: right;\">\n",
       "      <th></th>\n",
       "      <th>Property_Type</th>\n",
       "      <th>Property_Area</th>\n",
       "      <th>Number_of_Windows</th>\n",
       "      <th>Number_of_Doors</th>\n",
       "      <th>Furnishing</th>\n",
       "      <th>Frequency_of_Powercuts</th>\n",
       "      <th>Power_Backup</th>\n",
       "      <th>Water_Supply</th>\n",
       "      <th>Traffic_Density_Score</th>\n",
       "      <th>Crime_Rate</th>\n",
       "      <th>Dust_and_Noise</th>\n",
       "      <th>Air_Quality_Index</th>\n",
       "      <th>Neighborhood_Review</th>\n",
       "      <th>Habitability_score</th>\n",
       "    </tr>\n",
       "    <tr>\n",
       "      <th>Property_ID</th>\n",
       "      <th></th>\n",
       "      <th></th>\n",
       "      <th></th>\n",
       "      <th></th>\n",
       "      <th></th>\n",
       "      <th></th>\n",
       "      <th></th>\n",
       "      <th></th>\n",
       "      <th></th>\n",
       "      <th></th>\n",
       "      <th></th>\n",
       "      <th></th>\n",
       "      <th></th>\n",
       "      <th></th>\n",
       "    </tr>\n",
       "  </thead>\n",
       "  <tbody>\n",
       "    <tr>\n",
       "      <th>0x21e3</th>\n",
       "      <td>Apartment</td>\n",
       "      <td>106</td>\n",
       "      <td>NaN</td>\n",
       "      <td>1</td>\n",
       "      <td>Semi_Furnished</td>\n",
       "      <td>0.0</td>\n",
       "      <td>No</td>\n",
       "      <td>Once in a day - Morning</td>\n",
       "      <td>5.89</td>\n",
       "      <td>Slightly below average</td>\n",
       "      <td>Medium</td>\n",
       "      <td>90.0</td>\n",
       "      <td>3.86</td>\n",
       "      <td>71.98</td>\n",
       "    </tr>\n",
       "    <tr>\n",
       "      <th>0x68d4</th>\n",
       "      <td>Apartment</td>\n",
       "      <td>733</td>\n",
       "      <td>2.0</td>\n",
       "      <td>2</td>\n",
       "      <td>Unfurnished</td>\n",
       "      <td>1.0</td>\n",
       "      <td>No</td>\n",
       "      <td>Once in a day - Evening</td>\n",
       "      <td>4.37</td>\n",
       "      <td>Well below average</td>\n",
       "      <td>Medium</td>\n",
       "      <td>96.0</td>\n",
       "      <td>3.55</td>\n",
       "      <td>71.20</td>\n",
       "    </tr>\n",
       "    <tr>\n",
       "      <th>0x7d81</th>\n",
       "      <td>Apartment</td>\n",
       "      <td>737</td>\n",
       "      <td>4.0</td>\n",
       "      <td>2</td>\n",
       "      <td>Fully Furnished</td>\n",
       "      <td>0.0</td>\n",
       "      <td>No</td>\n",
       "      <td>Once in a day - Morning</td>\n",
       "      <td>7.45</td>\n",
       "      <td>Slightly below average</td>\n",
       "      <td>Medium</td>\n",
       "      <td>121.0</td>\n",
       "      <td>3.81</td>\n",
       "      <td>71.39</td>\n",
       "    </tr>\n",
       "    <tr>\n",
       "      <th>0x7a57</th>\n",
       "      <td>Apartment</td>\n",
       "      <td>900</td>\n",
       "      <td>3.0</td>\n",
       "      <td>2</td>\n",
       "      <td>Unfurnished</td>\n",
       "      <td>2.0</td>\n",
       "      <td>Yes</td>\n",
       "      <td>Once in a day - Morning</td>\n",
       "      <td>6.16</td>\n",
       "      <td>Well above average</td>\n",
       "      <td>Medium</td>\n",
       "      <td>100.0</td>\n",
       "      <td>1.34</td>\n",
       "      <td>31.46</td>\n",
       "    </tr>\n",
       "    <tr>\n",
       "      <th>0x9409</th>\n",
       "      <td>Bungalow</td>\n",
       "      <td>2238</td>\n",
       "      <td>14.0</td>\n",
       "      <td>6</td>\n",
       "      <td>Fully Furnished</td>\n",
       "      <td>0.0</td>\n",
       "      <td>No</td>\n",
       "      <td>All time</td>\n",
       "      <td>5.46</td>\n",
       "      <td>Well below average</td>\n",
       "      <td>Medium</td>\n",
       "      <td>116.0</td>\n",
       "      <td>4.77</td>\n",
       "      <td>93.70</td>\n",
       "    </tr>\n",
       "  </tbody>\n",
       "</table>\n",
       "</div>"
      ],
      "text/plain": [
       "            Property_Type  Property_Area  Number_of_Windows  Number_of_Doors  \\\n",
       "Property_ID                                                                    \n",
       "0x21e3          Apartment            106                NaN                1   \n",
       "0x68d4          Apartment            733                2.0                2   \n",
       "0x7d81          Apartment            737                4.0                2   \n",
       "0x7a57          Apartment            900                3.0                2   \n",
       "0x9409           Bungalow           2238               14.0                6   \n",
       "\n",
       "                  Furnishing  Frequency_of_Powercuts Power_Backup  \\\n",
       "Property_ID                                                         \n",
       "0x21e3        Semi_Furnished                     0.0           No   \n",
       "0x68d4           Unfurnished                     1.0           No   \n",
       "0x7d81       Fully Furnished                     0.0           No   \n",
       "0x7a57           Unfurnished                     2.0          Yes   \n",
       "0x9409       Fully Furnished                     0.0           No   \n",
       "\n",
       "                        Water_Supply  Traffic_Density_Score  \\\n",
       "Property_ID                                                   \n",
       "0x21e3       Once in a day - Morning                   5.89   \n",
       "0x68d4       Once in a day - Evening                   4.37   \n",
       "0x7d81       Once in a day - Morning                   7.45   \n",
       "0x7a57       Once in a day - Morning                   6.16   \n",
       "0x9409                      All time                   5.46   \n",
       "\n",
       "                         Crime_Rate Dust_and_Noise  Air_Quality_Index  \\\n",
       "Property_ID                                                             \n",
       "0x21e3       Slightly below average         Medium               90.0   \n",
       "0x68d4           Well below average         Medium               96.0   \n",
       "0x7d81       Slightly below average         Medium              121.0   \n",
       "0x7a57           Well above average         Medium              100.0   \n",
       "0x9409           Well below average         Medium              116.0   \n",
       "\n",
       "             Neighborhood_Review  Habitability_score  \n",
       "Property_ID                                           \n",
       "0x21e3                      3.86               71.98  \n",
       "0x68d4                      3.55               71.20  \n",
       "0x7d81                      3.81               71.39  \n",
       "0x7a57                      1.34               31.46  \n",
       "0x9409                      4.77               93.70  "
      ]
     },
     "execution_count": 3,
     "metadata": {},
     "output_type": "execute_result"
    }
   ],
   "source": [
    "train.head()"
   ]
  },
  {
   "cell_type": "code",
   "execution_count": 4,
   "id": "0a3a41ff",
   "metadata": {},
   "outputs": [
    {
     "data": {
      "text/plain": [
       "(39499, 14)"
      ]
     },
     "execution_count": 4,
     "metadata": {},
     "output_type": "execute_result"
    }
   ],
   "source": [
    "train.shape"
   ]
  },
  {
   "cell_type": "code",
   "execution_count": 5,
   "id": "78331c08",
   "metadata": {},
   "outputs": [
    {
     "data": {
      "text/html": [
       "<div>\n",
       "<style scoped>\n",
       "    .dataframe tbody tr th:only-of-type {\n",
       "        vertical-align: middle;\n",
       "    }\n",
       "\n",
       "    .dataframe tbody tr th {\n",
       "        vertical-align: top;\n",
       "    }\n",
       "\n",
       "    .dataframe thead th {\n",
       "        text-align: right;\n",
       "    }\n",
       "</style>\n",
       "<table border=\"1\" class=\"dataframe\">\n",
       "  <thead>\n",
       "    <tr style=\"text-align: right;\">\n",
       "      <th></th>\n",
       "      <th>Property_Area</th>\n",
       "      <th>Number_of_Windows</th>\n",
       "      <th>Number_of_Doors</th>\n",
       "      <th>Frequency_of_Powercuts</th>\n",
       "      <th>Traffic_Density_Score</th>\n",
       "      <th>Air_Quality_Index</th>\n",
       "      <th>Neighborhood_Review</th>\n",
       "      <th>Habitability_score</th>\n",
       "    </tr>\n",
       "  </thead>\n",
       "  <tbody>\n",
       "    <tr>\n",
       "      <th>count</th>\n",
       "      <td>39499.000000</td>\n",
       "      <td>37845.000000</td>\n",
       "      <td>39499.000000</td>\n",
       "      <td>38116.000000</td>\n",
       "      <td>39499.000000</td>\n",
       "      <td>39499.000000</td>\n",
       "      <td>39499.000000</td>\n",
       "      <td>39499.000000</td>\n",
       "    </tr>\n",
       "    <tr>\n",
       "      <th>mean</th>\n",
       "      <td>1391.715638</td>\n",
       "      <td>3.923768</td>\n",
       "      <td>2.331375</td>\n",
       "      <td>0.484678</td>\n",
       "      <td>6.354772</td>\n",
       "      <td>121.352566</td>\n",
       "      <td>3.735945</td>\n",
       "      <td>73.482297</td>\n",
       "    </tr>\n",
       "    <tr>\n",
       "      <th>std</th>\n",
       "      <td>1953.287544</td>\n",
       "      <td>2.690992</td>\n",
       "      <td>1.179964</td>\n",
       "      <td>0.752207</td>\n",
       "      <td>1.219681</td>\n",
       "      <td>62.384669</td>\n",
       "      <td>0.796843</td>\n",
       "      <td>14.118753</td>\n",
       "    </tr>\n",
       "    <tr>\n",
       "      <th>min</th>\n",
       "      <td>100.000000</td>\n",
       "      <td>0.000000</td>\n",
       "      <td>1.000000</td>\n",
       "      <td>0.000000</td>\n",
       "      <td>0.000000</td>\n",
       "      <td>0.000000</td>\n",
       "      <td>0.000000</td>\n",
       "      <td>7.280000</td>\n",
       "    </tr>\n",
       "    <tr>\n",
       "      <th>25%</th>\n",
       "      <td>494.000000</td>\n",
       "      <td>2.000000</td>\n",
       "      <td>1.000000</td>\n",
       "      <td>0.000000</td>\n",
       "      <td>5.600000</td>\n",
       "      <td>95.000000</td>\n",
       "      <td>3.220000</td>\n",
       "      <td>69.660000</td>\n",
       "    </tr>\n",
       "    <tr>\n",
       "      <th>50%</th>\n",
       "      <td>932.000000</td>\n",
       "      <td>4.000000</td>\n",
       "      <td>2.000000</td>\n",
       "      <td>0.000000</td>\n",
       "      <td>6.470000</td>\n",
       "      <td>113.000000</td>\n",
       "      <td>3.850000</td>\n",
       "      <td>75.760000</td>\n",
       "    </tr>\n",
       "    <tr>\n",
       "      <th>75%</th>\n",
       "      <td>1770.000000</td>\n",
       "      <td>5.000000</td>\n",
       "      <td>3.000000</td>\n",
       "      <td>1.000000</td>\n",
       "      <td>7.220000</td>\n",
       "      <td>140.000000</td>\n",
       "      <td>4.260000</td>\n",
       "      <td>82.260000</td>\n",
       "    </tr>\n",
       "    <tr>\n",
       "      <th>max</th>\n",
       "      <td>28064.000000</td>\n",
       "      <td>15.000000</td>\n",
       "      <td>6.000000</td>\n",
       "      <td>3.000000</td>\n",
       "      <td>9.910000</td>\n",
       "      <td>1044.000000</td>\n",
       "      <td>5.000000</td>\n",
       "      <td>100.000000</td>\n",
       "    </tr>\n",
       "  </tbody>\n",
       "</table>\n",
       "</div>"
      ],
      "text/plain": [
       "       Property_Area  Number_of_Windows  Number_of_Doors  \\\n",
       "count   39499.000000       37845.000000     39499.000000   \n",
       "mean     1391.715638           3.923768         2.331375   \n",
       "std      1953.287544           2.690992         1.179964   \n",
       "min       100.000000           0.000000         1.000000   \n",
       "25%       494.000000           2.000000         1.000000   \n",
       "50%       932.000000           4.000000         2.000000   \n",
       "75%      1770.000000           5.000000         3.000000   \n",
       "max     28064.000000          15.000000         6.000000   \n",
       "\n",
       "       Frequency_of_Powercuts  Traffic_Density_Score  Air_Quality_Index  \\\n",
       "count            38116.000000           39499.000000       39499.000000   \n",
       "mean                 0.484678               6.354772         121.352566   \n",
       "std                  0.752207               1.219681          62.384669   \n",
       "min                  0.000000               0.000000           0.000000   \n",
       "25%                  0.000000               5.600000          95.000000   \n",
       "50%                  0.000000               6.470000         113.000000   \n",
       "75%                  1.000000               7.220000         140.000000   \n",
       "max                  3.000000               9.910000        1044.000000   \n",
       "\n",
       "       Neighborhood_Review  Habitability_score  \n",
       "count         39499.000000        39499.000000  \n",
       "mean              3.735945           73.482297  \n",
       "std               0.796843           14.118753  \n",
       "min               0.000000            7.280000  \n",
       "25%               3.220000           69.660000  \n",
       "50%               3.850000           75.760000  \n",
       "75%               4.260000           82.260000  \n",
       "max               5.000000          100.000000  "
      ]
     },
     "execution_count": 5,
     "metadata": {},
     "output_type": "execute_result"
    }
   ],
   "source": [
    "train.describe()"
   ]
  },
  {
   "cell_type": "code",
   "execution_count": 6,
   "id": "01082bfb",
   "metadata": {},
   "outputs": [
    {
     "data": {
      "text/plain": [
       "Property_Type                0\n",
       "Property_Area                0\n",
       "Number_of_Windows         1654\n",
       "Number_of_Doors              0\n",
       "Furnishing                1042\n",
       "Frequency_of_Powercuts    1383\n",
       "Power_Backup                 0\n",
       "Water_Supply                 0\n",
       "Traffic_Density_Score        0\n",
       "Crime_Rate                 787\n",
       "Dust_and_Noise            1219\n",
       "Air_Quality_Index            0\n",
       "Neighborhood_Review          0\n",
       "Habitability_score           0\n",
       "dtype: int64"
      ]
     },
     "execution_count": 6,
     "metadata": {},
     "output_type": "execute_result"
    }
   ],
   "source": [
    "train.isnull().sum()"
   ]
  },
  {
   "cell_type": "code",
   "execution_count": 7,
   "id": "994b5c0a",
   "metadata": {},
   "outputs": [],
   "source": [
    "test = pd.read_csv(\"data/test.csv\", index_col=0)"
   ]
  },
  {
   "cell_type": "code",
   "execution_count": 8,
   "id": "71335d16",
   "metadata": {},
   "outputs": [
    {
     "data": {
      "text/html": [
       "<div>\n",
       "<style scoped>\n",
       "    .dataframe tbody tr th:only-of-type {\n",
       "        vertical-align: middle;\n",
       "    }\n",
       "\n",
       "    .dataframe tbody tr th {\n",
       "        vertical-align: top;\n",
       "    }\n",
       "\n",
       "    .dataframe thead th {\n",
       "        text-align: right;\n",
       "    }\n",
       "</style>\n",
       "<table border=\"1\" class=\"dataframe\">\n",
       "  <thead>\n",
       "    <tr style=\"text-align: right;\">\n",
       "      <th></th>\n",
       "      <th>Property_Type</th>\n",
       "      <th>Property_Area</th>\n",
       "      <th>Number_of_Windows</th>\n",
       "      <th>Number_of_Doors</th>\n",
       "      <th>Furnishing</th>\n",
       "      <th>Frequency_of_Powercuts</th>\n",
       "      <th>Power_Backup</th>\n",
       "      <th>Water_Supply</th>\n",
       "      <th>Traffic_Density_Score</th>\n",
       "      <th>Crime_Rate</th>\n",
       "      <th>Dust_and_Noise</th>\n",
       "      <th>Air_Quality_Index</th>\n",
       "      <th>Neighborhood_Review</th>\n",
       "    </tr>\n",
       "    <tr>\n",
       "      <th>Property_ID</th>\n",
       "      <th></th>\n",
       "      <th></th>\n",
       "      <th></th>\n",
       "      <th></th>\n",
       "      <th></th>\n",
       "      <th></th>\n",
       "      <th></th>\n",
       "      <th></th>\n",
       "      <th></th>\n",
       "      <th></th>\n",
       "      <th></th>\n",
       "      <th></th>\n",
       "      <th></th>\n",
       "    </tr>\n",
       "  </thead>\n",
       "  <tbody>\n",
       "    <tr>\n",
       "      <th>0x6e93</th>\n",
       "      <td>Apartment</td>\n",
       "      <td>293</td>\n",
       "      <td>3.0</td>\n",
       "      <td>1</td>\n",
       "      <td>Unfurnished</td>\n",
       "      <td>0.0</td>\n",
       "      <td>No</td>\n",
       "      <td>Once in a day - Morning</td>\n",
       "      <td>7.28</td>\n",
       "      <td>Well above average</td>\n",
       "      <td>Medium</td>\n",
       "      <td>152.0</td>\n",
       "      <td>2.52</td>\n",
       "    </tr>\n",
       "    <tr>\n",
       "      <th>0x8787</th>\n",
       "      <td>Apartment</td>\n",
       "      <td>586</td>\n",
       "      <td>4.0</td>\n",
       "      <td>1</td>\n",
       "      <td>Semi_Furnished</td>\n",
       "      <td>0.0</td>\n",
       "      <td>No</td>\n",
       "      <td>Once in a day - Evening</td>\n",
       "      <td>7.63</td>\n",
       "      <td>Well below average</td>\n",
       "      <td>Medium</td>\n",
       "      <td>92.0</td>\n",
       "      <td>4.16</td>\n",
       "    </tr>\n",
       "    <tr>\n",
       "      <th>0x6c17</th>\n",
       "      <td>Container Home</td>\n",
       "      <td>305</td>\n",
       "      <td>1.0</td>\n",
       "      <td>2</td>\n",
       "      <td>Semi_Furnished</td>\n",
       "      <td>1.0</td>\n",
       "      <td>No</td>\n",
       "      <td>All time</td>\n",
       "      <td>5.39</td>\n",
       "      <td>Slightly above average</td>\n",
       "      <td>Medium</td>\n",
       "      <td>90.0</td>\n",
       "      <td>2.92</td>\n",
       "    </tr>\n",
       "    <tr>\n",
       "      <th>0x9dbd</th>\n",
       "      <td>Apartment</td>\n",
       "      <td>258</td>\n",
       "      <td>2.0</td>\n",
       "      <td>1</td>\n",
       "      <td>Semi_Furnished</td>\n",
       "      <td>1.0</td>\n",
       "      <td>No</td>\n",
       "      <td>All time</td>\n",
       "      <td>7.53</td>\n",
       "      <td>Slightly below average</td>\n",
       "      <td>Medium</td>\n",
       "      <td>158.0</td>\n",
       "      <td>3.45</td>\n",
       "    </tr>\n",
       "    <tr>\n",
       "      <th>0xbfde</th>\n",
       "      <td>Bungalow</td>\n",
       "      <td>3031</td>\n",
       "      <td>12.0</td>\n",
       "      <td>4</td>\n",
       "      <td>Fully Furnished</td>\n",
       "      <td>0.0</td>\n",
       "      <td>No</td>\n",
       "      <td>All time</td>\n",
       "      <td>8.79</td>\n",
       "      <td>Well above average</td>\n",
       "      <td>High</td>\n",
       "      <td>186.0</td>\n",
       "      <td>2.72</td>\n",
       "    </tr>\n",
       "  </tbody>\n",
       "</table>\n",
       "</div>"
      ],
      "text/plain": [
       "              Property_Type  Property_Area  Number_of_Windows  \\\n",
       "Property_ID                                                     \n",
       "0x6e93            Apartment            293                3.0   \n",
       "0x8787            Apartment            586                4.0   \n",
       "0x6c17       Container Home            305                1.0   \n",
       "0x9dbd            Apartment            258                2.0   \n",
       "0xbfde             Bungalow           3031               12.0   \n",
       "\n",
       "             Number_of_Doors       Furnishing  Frequency_of_Powercuts  \\\n",
       "Property_ID                                                             \n",
       "0x6e93                     1      Unfurnished                     0.0   \n",
       "0x8787                     1   Semi_Furnished                     0.0   \n",
       "0x6c17                     2   Semi_Furnished                     1.0   \n",
       "0x9dbd                     1   Semi_Furnished                     1.0   \n",
       "0xbfde                     4  Fully Furnished                     0.0   \n",
       "\n",
       "            Power_Backup             Water_Supply  Traffic_Density_Score  \\\n",
       "Property_ID                                                                \n",
       "0x6e93                No  Once in a day - Morning                   7.28   \n",
       "0x8787                No  Once in a day - Evening                   7.63   \n",
       "0x6c17                No                 All time                   5.39   \n",
       "0x9dbd                No                 All time                   7.53   \n",
       "0xbfde                No                 All time                   8.79   \n",
       "\n",
       "                         Crime_Rate Dust_and_Noise  Air_Quality_Index  \\\n",
       "Property_ID                                                             \n",
       "0x6e93           Well above average         Medium              152.0   \n",
       "0x8787           Well below average         Medium               92.0   \n",
       "0x6c17       Slightly above average         Medium               90.0   \n",
       "0x9dbd       Slightly below average         Medium              158.0   \n",
       "0xbfde           Well above average           High              186.0   \n",
       "\n",
       "             Neighborhood_Review  \n",
       "Property_ID                       \n",
       "0x6e93                      2.52  \n",
       "0x8787                      4.16  \n",
       "0x6c17                      2.92  \n",
       "0x9dbd                      3.45  \n",
       "0xbfde                      2.72  "
      ]
     },
     "execution_count": 8,
     "metadata": {},
     "output_type": "execute_result"
    }
   ],
   "source": [
    "test.head()"
   ]
  },
  {
   "cell_type": "code",
   "execution_count": 9,
   "id": "1e8ceebb",
   "metadata": {},
   "outputs": [
    {
     "data": {
      "text/plain": [
       "(10500, 13)"
      ]
     },
     "execution_count": 9,
     "metadata": {},
     "output_type": "execute_result"
    }
   ],
   "source": [
    "test.shape"
   ]
  },
  {
   "cell_type": "code",
   "execution_count": 10,
   "id": "d32915bc",
   "metadata": {},
   "outputs": [
    {
     "data": {
      "text/html": [
       "<div>\n",
       "<style scoped>\n",
       "    .dataframe tbody tr th:only-of-type {\n",
       "        vertical-align: middle;\n",
       "    }\n",
       "\n",
       "    .dataframe tbody tr th {\n",
       "        vertical-align: top;\n",
       "    }\n",
       "\n",
       "    .dataframe thead th {\n",
       "        text-align: right;\n",
       "    }\n",
       "</style>\n",
       "<table border=\"1\" class=\"dataframe\">\n",
       "  <thead>\n",
       "    <tr style=\"text-align: right;\">\n",
       "      <th></th>\n",
       "      <th>Property_Area</th>\n",
       "      <th>Number_of_Windows</th>\n",
       "      <th>Number_of_Doors</th>\n",
       "      <th>Frequency_of_Powercuts</th>\n",
       "      <th>Traffic_Density_Score</th>\n",
       "      <th>Air_Quality_Index</th>\n",
       "      <th>Neighborhood_Review</th>\n",
       "    </tr>\n",
       "  </thead>\n",
       "  <tbody>\n",
       "    <tr>\n",
       "      <th>count</th>\n",
       "      <td>10500.000000</td>\n",
       "      <td>10055.000000</td>\n",
       "      <td>10500.000000</td>\n",
       "      <td>10134.000000</td>\n",
       "      <td>10500.000000</td>\n",
       "      <td>10500.000000</td>\n",
       "      <td>10500.000000</td>\n",
       "    </tr>\n",
       "    <tr>\n",
       "      <th>mean</th>\n",
       "      <td>1364.333333</td>\n",
       "      <td>3.897563</td>\n",
       "      <td>2.326571</td>\n",
       "      <td>0.484409</td>\n",
       "      <td>6.361525</td>\n",
       "      <td>120.532571</td>\n",
       "      <td>3.734125</td>\n",
       "    </tr>\n",
       "    <tr>\n",
       "      <th>std</th>\n",
       "      <td>1813.702032</td>\n",
       "      <td>2.690162</td>\n",
       "      <td>1.175324</td>\n",
       "      <td>0.749686</td>\n",
       "      <td>1.216237</td>\n",
       "      <td>55.635990</td>\n",
       "      <td>0.793325</td>\n",
       "    </tr>\n",
       "    <tr>\n",
       "      <th>min</th>\n",
       "      <td>100.000000</td>\n",
       "      <td>0.000000</td>\n",
       "      <td>1.000000</td>\n",
       "      <td>0.000000</td>\n",
       "      <td>0.020000</td>\n",
       "      <td>0.000000</td>\n",
       "      <td>0.020000</td>\n",
       "    </tr>\n",
       "    <tr>\n",
       "      <th>25%</th>\n",
       "      <td>505.000000</td>\n",
       "      <td>2.000000</td>\n",
       "      <td>1.000000</td>\n",
       "      <td>0.000000</td>\n",
       "      <td>5.620000</td>\n",
       "      <td>95.000000</td>\n",
       "      <td>3.230000</td>\n",
       "    </tr>\n",
       "    <tr>\n",
       "      <th>50%</th>\n",
       "      <td>935.500000</td>\n",
       "      <td>3.000000</td>\n",
       "      <td>2.000000</td>\n",
       "      <td>0.000000</td>\n",
       "      <td>6.470000</td>\n",
       "      <td>113.000000</td>\n",
       "      <td>3.850000</td>\n",
       "    </tr>\n",
       "    <tr>\n",
       "      <th>75%</th>\n",
       "      <td>1758.000000</td>\n",
       "      <td>5.000000</td>\n",
       "      <td>3.000000</td>\n",
       "      <td>1.000000</td>\n",
       "      <td>7.220000</td>\n",
       "      <td>140.000000</td>\n",
       "      <td>4.220000</td>\n",
       "    </tr>\n",
       "    <tr>\n",
       "      <th>max</th>\n",
       "      <td>27477.000000</td>\n",
       "      <td>15.000000</td>\n",
       "      <td>6.000000</td>\n",
       "      <td>3.000000</td>\n",
       "      <td>9.430000</td>\n",
       "      <td>1031.000000</td>\n",
       "      <td>5.000000</td>\n",
       "    </tr>\n",
       "  </tbody>\n",
       "</table>\n",
       "</div>"
      ],
      "text/plain": [
       "       Property_Area  Number_of_Windows  Number_of_Doors  \\\n",
       "count   10500.000000       10055.000000     10500.000000   \n",
       "mean     1364.333333           3.897563         2.326571   \n",
       "std      1813.702032           2.690162         1.175324   \n",
       "min       100.000000           0.000000         1.000000   \n",
       "25%       505.000000           2.000000         1.000000   \n",
       "50%       935.500000           3.000000         2.000000   \n",
       "75%      1758.000000           5.000000         3.000000   \n",
       "max     27477.000000          15.000000         6.000000   \n",
       "\n",
       "       Frequency_of_Powercuts  Traffic_Density_Score  Air_Quality_Index  \\\n",
       "count            10134.000000           10500.000000       10500.000000   \n",
       "mean                 0.484409               6.361525         120.532571   \n",
       "std                  0.749686               1.216237          55.635990   \n",
       "min                  0.000000               0.020000           0.000000   \n",
       "25%                  0.000000               5.620000          95.000000   \n",
       "50%                  0.000000               6.470000         113.000000   \n",
       "75%                  1.000000               7.220000         140.000000   \n",
       "max                  3.000000               9.430000        1031.000000   \n",
       "\n",
       "       Neighborhood_Review  \n",
       "count         10500.000000  \n",
       "mean              3.734125  \n",
       "std               0.793325  \n",
       "min               0.020000  \n",
       "25%               3.230000  \n",
       "50%               3.850000  \n",
       "75%               4.220000  \n",
       "max               5.000000  "
      ]
     },
     "execution_count": 10,
     "metadata": {},
     "output_type": "execute_result"
    }
   ],
   "source": [
    "test.describe()"
   ]
  },
  {
   "cell_type": "code",
   "execution_count": 11,
   "id": "9343d24b",
   "metadata": {},
   "outputs": [
    {
     "data": {
      "text/plain": [
       "Property_Type               0\n",
       "Property_Area               0\n",
       "Number_of_Windows         445\n",
       "Number_of_Doors             0\n",
       "Furnishing                257\n",
       "Frequency_of_Powercuts    366\n",
       "Power_Backup                0\n",
       "Water_Supply                0\n",
       "Traffic_Density_Score       0\n",
       "Crime_Rate                212\n",
       "Dust_and_Noise            330\n",
       "Air_Quality_Index           0\n",
       "Neighborhood_Review         0\n",
       "dtype: int64"
      ]
     },
     "execution_count": 11,
     "metadata": {},
     "output_type": "execute_result"
    }
   ],
   "source": [
    "test.isnull().sum()"
   ]
  },
  {
   "cell_type": "markdown",
   "id": "705a7a56",
   "metadata": {},
   "source": [
    "# 3. Handle Missing Value"
   ]
  },
  {
   "cell_type": "code",
   "execution_count": 12,
   "id": "78fe2463",
   "metadata": {},
   "outputs": [],
   "source": [
    "mode_for_windows = train['Number_of_Windows'].mode()[0]"
   ]
  },
  {
   "cell_type": "code",
   "execution_count": 13,
   "id": "79b7425c",
   "metadata": {},
   "outputs": [],
   "source": [
    "train['Number_of_Windows'].fillna(mode_for_windows, inplace = True)"
   ]
  },
  {
   "cell_type": "code",
   "execution_count": 14,
   "id": "19ef3b38",
   "metadata": {},
   "outputs": [],
   "source": [
    "test['Number_of_Windows'].fillna(mode_for_windows, inplace = True)"
   ]
  },
  {
   "cell_type": "code",
   "execution_count": 15,
   "id": "f6c73554",
   "metadata": {},
   "outputs": [],
   "source": [
    "train.bfill(inplace=True)"
   ]
  },
  {
   "cell_type": "code",
   "execution_count": 16,
   "id": "b1c124c6",
   "metadata": {},
   "outputs": [],
   "source": [
    "test.bfill(inplace=True)"
   ]
  },
  {
   "cell_type": "code",
   "execution_count": 17,
   "id": "0e167e78",
   "metadata": {},
   "outputs": [
    {
     "data": {
      "text/plain": [
       "Property_Type             0\n",
       "Property_Area             0\n",
       "Number_of_Windows         0\n",
       "Number_of_Doors           0\n",
       "Furnishing                0\n",
       "Frequency_of_Powercuts    0\n",
       "Power_Backup              0\n",
       "Water_Supply              0\n",
       "Traffic_Density_Score     0\n",
       "Crime_Rate                0\n",
       "Dust_and_Noise            0\n",
       "Air_Quality_Index         0\n",
       "Neighborhood_Review       0\n",
       "Habitability_score        0\n",
       "dtype: int64"
      ]
     },
     "execution_count": 17,
     "metadata": {},
     "output_type": "execute_result"
    }
   ],
   "source": [
    "train.isnull().sum()"
   ]
  },
  {
   "cell_type": "code",
   "execution_count": 18,
   "id": "67dccdd3",
   "metadata": {},
   "outputs": [
    {
     "data": {
      "text/plain": [
       "Property_Type             0\n",
       "Property_Area             0\n",
       "Number_of_Windows         0\n",
       "Number_of_Doors           0\n",
       "Furnishing                0\n",
       "Frequency_of_Powercuts    0\n",
       "Power_Backup              0\n",
       "Water_Supply              0\n",
       "Traffic_Density_Score     0\n",
       "Crime_Rate                0\n",
       "Dust_and_Noise            0\n",
       "Air_Quality_Index         0\n",
       "Neighborhood_Review       0\n",
       "dtype: int64"
      ]
     },
     "execution_count": 18,
     "metadata": {},
     "output_type": "execute_result"
    }
   ],
   "source": [
    "test.isnull().sum()"
   ]
  },
  {
   "cell_type": "markdown",
   "id": "8b36fc74",
   "metadata": {},
   "source": [
    "# 4. Features Handling "
   ]
  },
  {
   "cell_type": "markdown",
   "id": "608bfb06",
   "metadata": {},
   "source": [
    "# Property type enocoding"
   ]
  },
  {
   "cell_type": "code",
   "execution_count": 19,
   "id": "5b39e848",
   "metadata": {},
   "outputs": [
    {
     "data": {
      "text/plain": [
       "Apartment             14596\n",
       "Single-family home    11477\n",
       "Duplex                 5806\n",
       "Bungalow               4238\n",
       "Container Home         2872\n",
       "#R%$G&867               510\n",
       "Name: Property_Type, dtype: int64"
      ]
     },
     "execution_count": 19,
     "metadata": {},
     "output_type": "execute_result"
    }
   ],
   "source": [
    "train['Property_Type'].value_counts()"
   ]
  },
  {
   "cell_type": "code",
   "execution_count": 20,
   "id": "bec833d4",
   "metadata": {},
   "outputs": [
    {
     "data": {
      "text/plain": [
       "<AxesSubplot:>"
      ]
     },
     "execution_count": 20,
     "metadata": {},
     "output_type": "execute_result"
    },
    {
     "data": {
      "image/png": "[encoded data removed]",
      "text/plain": [
       "<Figure size 432x288 with 1 Axes>"
      ]
     },
     "metadata": {
      "needs_background": "light"
     },
     "output_type": "display_data"
    }
   ],
   "source": [
    "train['Property_Type'].hist()"
   ]
  },
  {
   "cell_type": "code",
   "execution_count": 21,
   "id": "c2c4878e",
   "metadata": {},
   "outputs": [
    {
     "data": {
      "text/html": [
       "<style>#sk-container-id-1 {color: black;background-color: white;}#sk-container-id-1 pre{padding: 0;}#sk-container-id-1 div.sk-toggleable {background-color: white;}#sk-container-id-1 label.sk-toggleable__label {cursor: pointer;display: block;width: 100%;margin-bottom: 0;padding: 0.3em;box-sizing: border-box;text-align: center;}#sk-container-id-1 label.sk-toggleable__label-arrow:before {content: \"▸\";float: left;margin-right: 0.25em;color: #696969;}#sk-container-id-1 label.sk-toggleable__label-arrow:hover:before {color: black;}#sk-container-id-1 div.sk-estimator:hover label.sk-toggleable__label-arrow:before {color: black;}#sk-container-id-1 div.sk-toggleable__content {max-height: 0;max-width: 0;overflow: hidden;text-align: left;background-color: #f0f8ff;}#sk-container-id-1 div.sk-toggleable__content pre {margin: 0.2em;color: black;border-radius: 0.25em;background-color: #f0f8ff;}#sk-container-id-1 input.sk-toggleable__control:checked~div.sk-toggleable__content {max-height: 200px;max-width: 100%;overflow: auto;}#sk-container-id-1 input.sk-toggleable__control:checked~label.sk-toggleable__label-arrow:before {content: \"▾\";}#sk-container-id-1 div.sk-estimator input.sk-toggleable__control:checked~label.sk-toggleable__label {background-color: #d4ebff;}#sk-container-id-1 div.sk-label input.sk-toggleable__control:checked~label.sk-toggleable__label {background-color: #d4ebff;}#sk-container-id-1 input.sk-hidden--visually {border: 0;clip: rect(1px 1px 1px 1px);clip: rect(1px, 1px, 1px, 1px);height: 1px;margin: -1px;overflow: hidden;padding: 0;position: absolute;width: 1px;}#sk-container-id-1 div.sk-estimator {font-family: monospace;background-color: #f0f8ff;border: 1px dotted black;border-radius: 0.25em;box-sizing: border-box;margin-bottom: 0.5em;}#sk-container-id-1 div.sk-estimator:hover {background-color: #d4ebff;}#sk-container-id-1 div.sk-parallel-item::after {content: \"\";width: 100%;border-bottom: 1px solid gray;flex-grow: 1;}#sk-container-id-1 div.sk-label:hover label.sk-toggleable__label {background-color: #d4ebff;}#sk-container-id-1 div.sk-serial::before {content: \"\";position: absolute;border-left: 1px solid gray;box-sizing: border-box;top: 0;bottom: 0;left: 50%;z-index: 0;}#sk-container-id-1 div.sk-serial {display: flex;flex-direction: column;align-items: center;background-color: white;padding-right: 0.2em;padding-left: 0.2em;position: relative;}#sk-container-id-1 div.sk-item {position: relative;z-index: 1;}#sk-container-id-1 div.sk-parallel {display: flex;align-items: stretch;justify-content: center;background-color: white;position: relative;}#sk-container-id-1 div.sk-item::before, #sk-container-id-1 div.sk-parallel-item::before {content: \"\";position: absolute;border-left: 1px solid gray;box-sizing: border-box;top: 0;bottom: 0;left: 50%;z-index: -1;}#sk-container-id-1 div.sk-parallel-item {display: flex;flex-direction: column;z-index: 1;position: relative;background-color: white;}#sk-container-id-1 div.sk-parallel-item:first-child::after {align-self: flex-end;width: 50%;}#sk-container-id-1 div.sk-parallel-item:last-child::after {align-self: flex-start;width: 50%;}#sk-container-id-1 div.sk-parallel-item:only-child::after {width: 0;}#sk-container-id-1 div.sk-dashed-wrapped {border: 1px dashed gray;margin: 0 0.4em 0.5em 0.4em;box-sizing: border-box;padding-bottom: 0.4em;background-color: white;}#sk-container-id-1 div.sk-label label {font-family: monospace;font-weight: bold;display: inline-block;line-height: 1.2em;}#sk-container-id-1 div.sk-label-container {text-align: center;}#sk-container-id-1 div.sk-container {/* jupyter's `normalize.less` sets `[hidden] { display: none; }` but bootstrap.min.css set `[hidden] { display: none !important; }` so we also need the `!important` here to be able to override the default hidden behavior on the sphinx rendered scikit-learn.org. See: https://github.com/scikit-learn/scikit-learn/issues/21755 */display: inline-block !important;position: relative;}#sk-container-id-1 div.sk-text-repr-fallback {display: none;}</style><div id=\"sk-container-id-1\" class=\"sk-top-container\"><div class=\"sk-text-repr-fallback\"><pre>OneHotEncoder()</pre><b>In a Jupyter environment, please rerun this cell to show the HTML representation or trust the notebook. <br />On GitHub, the HTML representation is unable to render, please try loading this page with nbviewer.org.</b></div><div class=\"sk-container\" hidden><div class=\"sk-item\"><div class=\"sk-estimator sk-toggleable\"><input class=\"sk-toggleable__control sk-hidden--visually\" id=\"sk-estimator-id-1\" type=\"checkbox\" checked><label for=\"sk-estimator-id-1\" class=\"sk-toggleable__label sk-toggleable__label-arrow\">OneHotEncoder</label><div class=\"sk-toggleable__content\"><pre>OneHotEncoder()</pre></div></div></div></div></div>"
      ],
      "text/plain": [
       "OneHotEncoder()"
      ]
     },
     "execution_count": 21,
     "metadata": {},
     "output_type": "execute_result"
    }
   ],
   "source": [
    "Property_Type_encoder = OneHotEncoder()\n",
    "Property_Type_encoder.fit(train[['Property_Type']])"
   ]
  },
  {
   "cell_type": "code",
   "execution_count": 22,
   "id": "1992a25f",
   "metadata": {},
   "outputs": [],
   "source": [
    "Property_Type_encoder_column_names = Property_Type_encoder.get_feature_names(['Property_Type'])"
   ]
  },
  {
   "cell_type": "code",
   "execution_count": 23,
   "id": "63f81edf",
   "metadata": {},
   "outputs": [
    {
     "data": {
      "text/plain": [
       "array(['Property_Type_#R%$G&867', 'Property_Type_Apartment',\n",
       "       'Property_Type_Bungalow', 'Property_Type_Container Home',\n",
       "       'Property_Type_Duplex', 'Property_Type_Single-family home'],\n",
       "      dtype=object)"
      ]
     },
     "execution_count": 23,
     "metadata": {},
     "output_type": "execute_result"
    }
   ],
   "source": [
    "Property_Type_encoder_column_names"
   ]
  },
  {
   "cell_type": "code",
   "execution_count": 24,
   "id": "6da7c532",
   "metadata": {},
   "outputs": [],
   "source": [
    "encoded_data = pd.DataFrame(Property_Type_encoder.transform(train[['Property_Type']]).toarray(), \n",
    "                            columns = Property_Type_encoder_column_names, index = train.index)"
   ]
  },
  {
   "cell_type": "code",
   "execution_count": 25,
   "id": "733a2a6d",
   "metadata": {},
   "outputs": [],
   "source": [
    "train = pd.concat([train, encoded_data], axis=1)"
   ]
  },
  {
   "cell_type": "code",
   "execution_count": 26,
   "id": "692f1e98",
   "metadata": {},
   "outputs": [],
   "source": [
    "train.drop('Property_Type', axis=1, inplace=True)"
   ]
  },
  {
   "cell_type": "code",
   "execution_count": 27,
   "id": "43705c51",
   "metadata": {},
   "outputs": [
    {
     "data": {
      "text/html": [
       "<div>\n",
       "<style scoped>\n",
       "    .dataframe tbody tr th:only-of-type {\n",
       "        vertical-align: middle;\n",
       "    }\n",
       "\n",
       "    .dataframe tbody tr th {\n",
       "        vertical-align: top;\n",
       "    }\n",
       "\n",
       "    .dataframe thead th {\n",
       "        text-align: right;\n",
       "    }\n",
       "</style>\n",
       "<table border=\"1\" class=\"dataframe\">\n",
       "  <thead>\n",
       "    <tr style=\"text-align: right;\">\n",
       "      <th></th>\n",
       "      <th>Property_Area</th>\n",
       "      <th>Number_of_Windows</th>\n",
       "      <th>Number_of_Doors</th>\n",
       "      <th>Furnishing</th>\n",
       "      <th>Frequency_of_Powercuts</th>\n",
       "      <th>Power_Backup</th>\n",
       "      <th>Water_Supply</th>\n",
       "      <th>Traffic_Density_Score</th>\n",
       "      <th>Crime_Rate</th>\n",
       "      <th>Dust_and_Noise</th>\n",
       "      <th>Air_Quality_Index</th>\n",
       "      <th>Neighborhood_Review</th>\n",
       "      <th>Habitability_score</th>\n",
       "      <th>Property_Type_#R%$G&amp;867</th>\n",
       "      <th>Property_Type_Apartment</th>\n",
       "      <th>Property_Type_Bungalow</th>\n",
       "      <th>Property_Type_Container Home</th>\n",
       "      <th>Property_Type_Duplex</th>\n",
       "      <th>Property_Type_Single-family home</th>\n",
       "    </tr>\n",
       "    <tr>\n",
       "      <th>Property_ID</th>\n",
       "      <th></th>\n",
       "      <th></th>\n",
       "      <th></th>\n",
       "      <th></th>\n",
       "      <th></th>\n",
       "      <th></th>\n",
       "      <th></th>\n",
       "      <th></th>\n",
       "      <th></th>\n",
       "      <th></th>\n",
       "      <th></th>\n",
       "      <th></th>\n",
       "      <th></th>\n",
       "      <th></th>\n",
       "      <th></th>\n",
       "      <th></th>\n",
       "      <th></th>\n",
       "      <th></th>\n",
       "      <th></th>\n",
       "    </tr>\n",
       "  </thead>\n",
       "  <tbody>\n",
       "    <tr>\n",
       "      <th>0x21e3</th>\n",
       "      <td>106</td>\n",
       "      <td>4.0</td>\n",
       "      <td>1</td>\n",
       "      <td>Semi_Furnished</td>\n",
       "      <td>0.0</td>\n",
       "      <td>No</td>\n",
       "      <td>Once in a day - Morning</td>\n",
       "      <td>5.89</td>\n",
       "      <td>Slightly below average</td>\n",
       "      <td>Medium</td>\n",
       "      <td>90.0</td>\n",
       "      <td>3.86</td>\n",
       "      <td>71.98</td>\n",
       "      <td>0.0</td>\n",
       "      <td>1.0</td>\n",
       "      <td>0.0</td>\n",
       "      <td>0.0</td>\n",
       "      <td>0.0</td>\n",
       "      <td>0.0</td>\n",
       "    </tr>\n",
       "    <tr>\n",
       "      <th>0x68d4</th>\n",
       "      <td>733</td>\n",
       "      <td>2.0</td>\n",
       "      <td>2</td>\n",
       "      <td>Unfurnished</td>\n",
       "      <td>1.0</td>\n",
       "      <td>No</td>\n",
       "      <td>Once in a day - Evening</td>\n",
       "      <td>4.37</td>\n",
       "      <td>Well below average</td>\n",
       "      <td>Medium</td>\n",
       "      <td>96.0</td>\n",
       "      <td>3.55</td>\n",
       "      <td>71.20</td>\n",
       "      <td>0.0</td>\n",
       "      <td>1.0</td>\n",
       "      <td>0.0</td>\n",
       "      <td>0.0</td>\n",
       "      <td>0.0</td>\n",
       "      <td>0.0</td>\n",
       "    </tr>\n",
       "    <tr>\n",
       "      <th>0x7d81</th>\n",
       "      <td>737</td>\n",
       "      <td>4.0</td>\n",
       "      <td>2</td>\n",
       "      <td>Fully Furnished</td>\n",
       "      <td>0.0</td>\n",
       "      <td>No</td>\n",
       "      <td>Once in a day - Morning</td>\n",
       "      <td>7.45</td>\n",
       "      <td>Slightly below average</td>\n",
       "      <td>Medium</td>\n",
       "      <td>121.0</td>\n",
       "      <td>3.81</td>\n",
       "      <td>71.39</td>\n",
       "      <td>0.0</td>\n",
       "      <td>1.0</td>\n",
       "      <td>0.0</td>\n",
       "      <td>0.0</td>\n",
       "      <td>0.0</td>\n",
       "      <td>0.0</td>\n",
       "    </tr>\n",
       "    <tr>\n",
       "      <th>0x7a57</th>\n",
       "      <td>900</td>\n",
       "      <td>3.0</td>\n",
       "      <td>2</td>\n",
       "      <td>Unfurnished</td>\n",
       "      <td>2.0</td>\n",
       "      <td>Yes</td>\n",
       "      <td>Once in a day - Morning</td>\n",
       "      <td>6.16</td>\n",
       "      <td>Well above average</td>\n",
       "      <td>Medium</td>\n",
       "      <td>100.0</td>\n",
       "      <td>1.34</td>\n",
       "      <td>31.46</td>\n",
       "      <td>0.0</td>\n",
       "      <td>1.0</td>\n",
       "      <td>0.0</td>\n",
       "      <td>0.0</td>\n",
       "      <td>0.0</td>\n",
       "      <td>0.0</td>\n",
       "    </tr>\n",
       "    <tr>\n",
       "      <th>0x9409</th>\n",
       "      <td>2238</td>\n",
       "      <td>14.0</td>\n",
       "      <td>6</td>\n",
       "      <td>Fully Furnished</td>\n",
       "      <td>0.0</td>\n",
       "      <td>No</td>\n",
       "      <td>All time</td>\n",
       "      <td>5.46</td>\n",
       "      <td>Well below average</td>\n",
       "      <td>Medium</td>\n",
       "      <td>116.0</td>\n",
       "      <td>4.77</td>\n",
       "      <td>93.70</td>\n",
       "      <td>0.0</td>\n",
       "      <td>0.0</td>\n",
       "      <td>1.0</td>\n",
       "      <td>0.0</td>\n",
       "      <td>0.0</td>\n",
       "      <td>0.0</td>\n",
       "    </tr>\n",
       "  </tbody>\n",
       "</table>\n",
       "</div>"
      ],
      "text/plain": [
       "             Property_Area  Number_of_Windows  Number_of_Doors  \\\n",
       "Property_ID                                                      \n",
       "0x21e3                 106                4.0                1   \n",
       "0x68d4                 733                2.0                2   \n",
       "0x7d81                 737                4.0                2   \n",
       "0x7a57                 900                3.0                2   \n",
       "0x9409                2238               14.0                6   \n",
       "\n",
       "                  Furnishing  Frequency_of_Powercuts Power_Backup  \\\n",
       "Property_ID                                                         \n",
       "0x21e3        Semi_Furnished                     0.0           No   \n",
       "0x68d4           Unfurnished                     1.0           No   \n",
       "0x7d81       Fully Furnished                     0.0           No   \n",
       "0x7a57           Unfurnished                     2.0          Yes   \n",
       "0x9409       Fully Furnished                     0.0           No   \n",
       "\n",
       "                        Water_Supply  Traffic_Density_Score  \\\n",
       "Property_ID                                                   \n",
       "0x21e3       Once in a day - Morning                   5.89   \n",
       "0x68d4       Once in a day - Evening                   4.37   \n",
       "0x7d81       Once in a day - Morning                   7.45   \n",
       "0x7a57       Once in a day - Morning                   6.16   \n",
       "0x9409                      All time                   5.46   \n",
       "\n",
       "                         Crime_Rate Dust_and_Noise  Air_Quality_Index  \\\n",
       "Property_ID                                                             \n",
       "0x21e3       Slightly below average         Medium               90.0   \n",
       "0x68d4           Well below average         Medium               96.0   \n",
       "0x7d81       Slightly below average         Medium              121.0   \n",
       "0x7a57           Well above average         Medium              100.0   \n",
       "0x9409           Well below average         Medium              116.0   \n",
       "\n",
       "             Neighborhood_Review  Habitability_score  Property_Type_#R%$G&867  \\\n",
       "Property_ID                                                                     \n",
       "0x21e3                      3.86               71.98                      0.0   \n",
       "0x68d4                      3.55               71.20                      0.0   \n",
       "0x7d81                      3.81               71.39                      0.0   \n",
       "0x7a57                      1.34               31.46                      0.0   \n",
       "0x9409                      4.77               93.70                      0.0   \n",
       "\n",
       "             Property_Type_Apartment  Property_Type_Bungalow  \\\n",
       "Property_ID                                                    \n",
       "0x21e3                           1.0                     0.0   \n",
       "0x68d4                           1.0                     0.0   \n",
       "0x7d81                           1.0                     0.0   \n",
       "0x7a57                           1.0                     0.0   \n",
       "0x9409                           0.0                     1.0   \n",
       "\n",
       "             Property_Type_Container Home  Property_Type_Duplex  \\\n",
       "Property_ID                                                       \n",
       "0x21e3                                0.0                   0.0   \n",
       "0x68d4                                0.0                   0.0   \n",
       "0x7d81                                0.0                   0.0   \n",
       "0x7a57                                0.0                   0.0   \n",
       "0x9409                                0.0                   0.0   \n",
       "\n",
       "             Property_Type_Single-family home  \n",
       "Property_ID                                    \n",
       "0x21e3                                    0.0  \n",
       "0x68d4                                    0.0  \n",
       "0x7d81                                    0.0  \n",
       "0x7a57                                    0.0  \n",
       "0x9409                                    0.0  "
      ]
     },
     "execution_count": 27,
     "metadata": {},
     "output_type": "execute_result"
    }
   ],
   "source": [
    "train.head()"
   ]
  },
  {
   "cell_type": "code",
   "execution_count": 28,
   "id": "064686ca",
   "metadata": {},
   "outputs": [],
   "source": [
    "encoded_data = pd.DataFrame(Property_Type_encoder.transform(test[['Property_Type']]).toarray(), \n",
    "                            columns = Property_Type_encoder_column_names, index = test.index)"
   ]
  },
  {
   "cell_type": "code",
   "execution_count": 29,
   "id": "194c368a",
   "metadata": {},
   "outputs": [
    {
     "data": {
      "text/plain": [
       "Apartment             3853\n",
       "Single-family home    3102\n",
       "Duplex                1520\n",
       "Bungalow              1105\n",
       "Container Home         781\n",
       "#R%$G&867              139\n",
       "Name: Property_Type, dtype: int64"
      ]
     },
     "execution_count": 29,
     "metadata": {},
     "output_type": "execute_result"
    }
   ],
   "source": [
    "test['Property_Type'].value_counts()"
   ]
  },
  {
   "cell_type": "code",
   "execution_count": 30,
   "id": "ed302ec2",
   "metadata": {},
   "outputs": [],
   "source": [
    "test = pd.concat([test, encoded_data], axis=1)"
   ]
  },
  {
   "cell_type": "code",
   "execution_count": 31,
   "id": "0fb5ef0b",
   "metadata": {},
   "outputs": [],
   "source": [
    "test.drop('Property_Type', axis=1, inplace=True)"
   ]
  },
  {
   "cell_type": "code",
   "execution_count": 32,
   "id": "df524ca5",
   "metadata": {},
   "outputs": [
    {
     "data": {
      "text/html": [
       "<div>\n",
       "<style scoped>\n",
       "    .dataframe tbody tr th:only-of-type {\n",
       "        vertical-align: middle;\n",
       "    }\n",
       "\n",
       "    .dataframe tbody tr th {\n",
       "        vertical-align: top;\n",
       "    }\n",
       "\n",
       "    .dataframe thead th {\n",
       "        text-align: right;\n",
       "    }\n",
       "</style>\n",
       "<table border=\"1\" class=\"dataframe\">\n",
       "  <thead>\n",
       "    <tr style=\"text-align: right;\">\n",
       "      <th></th>\n",
       "      <th>Property_Area</th>\n",
       "      <th>Number_of_Windows</th>\n",
       "      <th>Number_of_Doors</th>\n",
       "      <th>Furnishing</th>\n",
       "      <th>Frequency_of_Powercuts</th>\n",
       "      <th>Power_Backup</th>\n",
       "      <th>Water_Supply</th>\n",
       "      <th>Traffic_Density_Score</th>\n",
       "      <th>Crime_Rate</th>\n",
       "      <th>Dust_and_Noise</th>\n",
       "      <th>Air_Quality_Index</th>\n",
       "      <th>Neighborhood_Review</th>\n",
       "      <th>Property_Type_#R%$G&amp;867</th>\n",
       "      <th>Property_Type_Apartment</th>\n",
       "      <th>Property_Type_Bungalow</th>\n",
       "      <th>Property_Type_Container Home</th>\n",
       "      <th>Property_Type_Duplex</th>\n",
       "      <th>Property_Type_Single-family home</th>\n",
       "    </tr>\n",
       "    <tr>\n",
       "      <th>Property_ID</th>\n",
       "      <th></th>\n",
       "      <th></th>\n",
       "      <th></th>\n",
       "      <th></th>\n",
       "      <th></th>\n",
       "      <th></th>\n",
       "      <th></th>\n",
       "      <th></th>\n",
       "      <th></th>\n",
       "      <th></th>\n",
       "      <th></th>\n",
       "      <th></th>\n",
       "      <th></th>\n",
       "      <th></th>\n",
       "      <th></th>\n",
       "      <th></th>\n",
       "      <th></th>\n",
       "      <th></th>\n",
       "    </tr>\n",
       "  </thead>\n",
       "  <tbody>\n",
       "    <tr>\n",
       "      <th>0x6e93</th>\n",
       "      <td>293</td>\n",
       "      <td>3.0</td>\n",
       "      <td>1</td>\n",
       "      <td>Unfurnished</td>\n",
       "      <td>0.0</td>\n",
       "      <td>No</td>\n",
       "      <td>Once in a day - Morning</td>\n",
       "      <td>7.28</td>\n",
       "      <td>Well above average</td>\n",
       "      <td>Medium</td>\n",
       "      <td>152.0</td>\n",
       "      <td>2.52</td>\n",
       "      <td>0.0</td>\n",
       "      <td>1.0</td>\n",
       "      <td>0.0</td>\n",
       "      <td>0.0</td>\n",
       "      <td>0.0</td>\n",
       "      <td>0.0</td>\n",
       "    </tr>\n",
       "    <tr>\n",
       "      <th>0x8787</th>\n",
       "      <td>586</td>\n",
       "      <td>4.0</td>\n",
       "      <td>1</td>\n",
       "      <td>Semi_Furnished</td>\n",
       "      <td>0.0</td>\n",
       "      <td>No</td>\n",
       "      <td>Once in a day - Evening</td>\n",
       "      <td>7.63</td>\n",
       "      <td>Well below average</td>\n",
       "      <td>Medium</td>\n",
       "      <td>92.0</td>\n",
       "      <td>4.16</td>\n",
       "      <td>0.0</td>\n",
       "      <td>1.0</td>\n",
       "      <td>0.0</td>\n",
       "      <td>0.0</td>\n",
       "      <td>0.0</td>\n",
       "      <td>0.0</td>\n",
       "    </tr>\n",
       "    <tr>\n",
       "      <th>0x6c17</th>\n",
       "      <td>305</td>\n",
       "      <td>1.0</td>\n",
       "      <td>2</td>\n",
       "      <td>Semi_Furnished</td>\n",
       "      <td>1.0</td>\n",
       "      <td>No</td>\n",
       "      <td>All time</td>\n",
       "      <td>5.39</td>\n",
       "      <td>Slightly above average</td>\n",
       "      <td>Medium</td>\n",
       "      <td>90.0</td>\n",
       "      <td>2.92</td>\n",
       "      <td>0.0</td>\n",
       "      <td>0.0</td>\n",
       "      <td>0.0</td>\n",
       "      <td>1.0</td>\n",
       "      <td>0.0</td>\n",
       "      <td>0.0</td>\n",
       "    </tr>\n",
       "    <tr>\n",
       "      <th>0x9dbd</th>\n",
       "      <td>258</td>\n",
       "      <td>2.0</td>\n",
       "      <td>1</td>\n",
       "      <td>Semi_Furnished</td>\n",
       "      <td>1.0</td>\n",
       "      <td>No</td>\n",
       "      <td>All time</td>\n",
       "      <td>7.53</td>\n",
       "      <td>Slightly below average</td>\n",
       "      <td>Medium</td>\n",
       "      <td>158.0</td>\n",
       "      <td>3.45</td>\n",
       "      <td>0.0</td>\n",
       "      <td>1.0</td>\n",
       "      <td>0.0</td>\n",
       "      <td>0.0</td>\n",
       "      <td>0.0</td>\n",
       "      <td>0.0</td>\n",
       "    </tr>\n",
       "    <tr>\n",
       "      <th>0xbfde</th>\n",
       "      <td>3031</td>\n",
       "      <td>12.0</td>\n",
       "      <td>4</td>\n",
       "      <td>Fully Furnished</td>\n",
       "      <td>0.0</td>\n",
       "      <td>No</td>\n",
       "      <td>All time</td>\n",
       "      <td>8.79</td>\n",
       "      <td>Well above average</td>\n",
       "      <td>High</td>\n",
       "      <td>186.0</td>\n",
       "      <td>2.72</td>\n",
       "      <td>0.0</td>\n",
       "      <td>0.0</td>\n",
       "      <td>1.0</td>\n",
       "      <td>0.0</td>\n",
       "      <td>0.0</td>\n",
       "      <td>0.0</td>\n",
       "    </tr>\n",
       "  </tbody>\n",
       "</table>\n",
       "</div>"
      ],
      "text/plain": [
       "             Property_Area  Number_of_Windows  Number_of_Doors  \\\n",
       "Property_ID                                                      \n",
       "0x6e93                 293                3.0                1   \n",
       "0x8787                 586                4.0                1   \n",
       "0x6c17                 305                1.0                2   \n",
       "0x9dbd                 258                2.0                1   \n",
       "0xbfde                3031               12.0                4   \n",
       "\n",
       "                  Furnishing  Frequency_of_Powercuts Power_Backup  \\\n",
       "Property_ID                                                         \n",
       "0x6e93           Unfurnished                     0.0           No   \n",
       "0x8787        Semi_Furnished                     0.0           No   \n",
       "0x6c17        Semi_Furnished                     1.0           No   \n",
       "0x9dbd        Semi_Furnished                     1.0           No   \n",
       "0xbfde       Fully Furnished                     0.0           No   \n",
       "\n",
       "                        Water_Supply  Traffic_Density_Score  \\\n",
       "Property_ID                                                   \n",
       "0x6e93       Once in a day - Morning                   7.28   \n",
       "0x8787       Once in a day - Evening                   7.63   \n",
       "0x6c17                      All time                   5.39   \n",
       "0x9dbd                      All time                   7.53   \n",
       "0xbfde                      All time                   8.79   \n",
       "\n",
       "                         Crime_Rate Dust_and_Noise  Air_Quality_Index  \\\n",
       "Property_ID                                                             \n",
       "0x6e93           Well above average         Medium              152.0   \n",
       "0x8787           Well below average         Medium               92.0   \n",
       "0x6c17       Slightly above average         Medium               90.0   \n",
       "0x9dbd       Slightly below average         Medium              158.0   \n",
       "0xbfde           Well above average           High              186.0   \n",
       "\n",
       "             Neighborhood_Review  Property_Type_#R%$G&867  \\\n",
       "Property_ID                                                 \n",
       "0x6e93                      2.52                      0.0   \n",
       "0x8787                      4.16                      0.0   \n",
       "0x6c17                      2.92                      0.0   \n",
       "0x9dbd                      3.45                      0.0   \n",
       "0xbfde                      2.72                      0.0   \n",
       "\n",
       "             Property_Type_Apartment  Property_Type_Bungalow  \\\n",
       "Property_ID                                                    \n",
       "0x6e93                           1.0                     0.0   \n",
       "0x8787                           1.0                     0.0   \n",
       "0x6c17                           0.0                     0.0   \n",
       "0x9dbd                           1.0                     0.0   \n",
       "0xbfde                           0.0                     1.0   \n",
       "\n",
       "             Property_Type_Container Home  Property_Type_Duplex  \\\n",
       "Property_ID                                                       \n",
       "0x6e93                                0.0                   0.0   \n",
       "0x8787                                0.0                   0.0   \n",
       "0x6c17                                1.0                   0.0   \n",
       "0x9dbd                                0.0                   0.0   \n",
       "0xbfde                                0.0                   0.0   \n",
       "\n",
       "             Property_Type_Single-family home  \n",
       "Property_ID                                    \n",
       "0x6e93                                    0.0  \n",
       "0x8787                                    0.0  \n",
       "0x6c17                                    0.0  \n",
       "0x9dbd                                    0.0  \n",
       "0xbfde                                    0.0  "
      ]
     },
     "execution_count": 32,
     "metadata": {},
     "output_type": "execute_result"
    }
   ],
   "source": [
    "test.head()"
   ]
  },
  {
   "cell_type": "markdown",
   "id": "0146c675",
   "metadata": {},
   "source": [
    "# Property area"
   ]
  },
  {
   "cell_type": "code",
   "execution_count": 33,
   "id": "36ba1b88",
   "metadata": {},
   "outputs": [
    {
     "data": {
      "text/plain": [
       "(100, 28064)"
      ]
     },
     "execution_count": 33,
     "metadata": {},
     "output_type": "execute_result"
    }
   ],
   "source": [
    "train['Property_Area'].min(), train['Property_Area'].max()"
   ]
  },
  {
   "cell_type": "code",
   "execution_count": 34,
   "id": "2be271ae",
   "metadata": {},
   "outputs": [
    {
     "data": {
      "text/plain": [
       "<AxesSubplot:ylabel='Density'>"
      ]
     },
     "execution_count": 34,
     "metadata": {},
     "output_type": "execute_result"
    },
    {
     "data": {
      "image/png": "[encoded data removed]",
      "text/plain": [
       "<Figure size 432x288 with 1 Axes>"
      ]
     },
     "metadata": {
      "needs_background": "light"
     },
     "output_type": "display_data"
    }
   ],
   "source": [
    "train['Property_Area'].plot.kde()"
   ]
  },
  {
   "cell_type": "code",
   "execution_count": 35,
   "id": "936e86b1",
   "metadata": {},
   "outputs": [
    {
     "data": {
      "text/plain": [
       "<AxesSubplot:ylabel='Frequency'>"
      ]
     },
     "execution_count": 35,
     "metadata": {},
     "output_type": "execute_result"
    },
    {
     "data": {
      "image/png": "[encoded data removed]",
      "text/plain": [
       "<Figure size 432x288 with 1 Axes>"
      ]
     },
     "metadata": {
      "needs_background": "light"
     },
     "output_type": "display_data"
    }
   ],
   "source": [
    "train['Property_Area'].plot.hist(bins=10)"
   ]
  },
  {
   "cell_type": "markdown",
   "id": "004360c9",
   "metadata": {},
   "source": [
    "# Number of windows"
   ]
  },
  {
   "cell_type": "code",
   "execution_count": 36,
   "id": "eb17be79",
   "metadata": {},
   "outputs": [
    {
     "data": {
      "text/plain": [
       "(0.0, 15.0)"
      ]
     },
     "execution_count": 36,
     "metadata": {},
     "output_type": "execute_result"
    }
   ],
   "source": [
    "train['Number_of_Windows'].min(), train['Number_of_Windows'].max()"
   ]
  },
  {
   "cell_type": "code",
   "execution_count": 37,
   "id": "25f3abea",
   "metadata": {},
   "outputs": [
    {
     "data": {
      "text/plain": [
       "<AxesSubplot:ylabel='Frequency'>"
      ]
     },
     "execution_count": 37,
     "metadata": {},
     "output_type": "execute_result"
    },
    {
     "data": {
      "image/png": "[encoded data removed]",
      "text/plain": [
       "<Figure size 432x288 with 1 Axes>"
      ]
     },
     "metadata": {
      "needs_background": "light"
     },
     "output_type": "display_data"
    }
   ],
   "source": [
    "train['Number_of_Windows'].plot.hist(bins=15)"
   ]
  },
  {
   "cell_type": "markdown",
   "id": "aece6c0c",
   "metadata": {},
   "source": [
    "# Number of doors"
   ]
  },
  {
   "cell_type": "code",
   "execution_count": 38,
   "id": "25377ecf",
   "metadata": {},
   "outputs": [
    {
     "data": {
      "text/plain": [
       "(1, 6)"
      ]
     },
     "execution_count": 38,
     "metadata": {},
     "output_type": "execute_result"
    }
   ],
   "source": [
    "train['Number_of_Doors'].min(), train['Number_of_Doors'].max()"
   ]
  },
  {
   "cell_type": "code",
   "execution_count": 39,
   "id": "2238ef10",
   "metadata": {},
   "outputs": [
    {
     "data": {
      "text/plain": [
       "<AxesSubplot:ylabel='Frequency'>"
      ]
     },
     "execution_count": 39,
     "metadata": {},
     "output_type": "execute_result"
    },
    {
     "data": {
      "image/png": "[encoded data removed]",
      "text/plain": [
       "<Figure size 432x288 with 1 Axes>"
      ]
     },
     "metadata": {
      "needs_background": "light"
     },
     "output_type": "display_data"
    }
   ],
   "source": [
    "train['Number_of_Doors'].plot.hist(bins=6)"
   ]
  },
  {
   "cell_type": "markdown",
   "id": "86b99b34",
   "metadata": {},
   "source": [
    "# Furnishing"
   ]
  },
  {
   "cell_type": "code",
   "execution_count": 40,
   "id": "d01b5fc1",
   "metadata": {},
   "outputs": [
    {
     "data": {
      "text/plain": [
       "Semi_Furnished     20926\n",
       "Unfurnished        10602\n",
       "Fully Furnished     7971\n",
       "Name: Furnishing, dtype: int64"
      ]
     },
     "execution_count": 40,
     "metadata": {},
     "output_type": "execute_result"
    }
   ],
   "source": [
    "train['Furnishing'].value_counts()"
   ]
  },
  {
   "cell_type": "code",
   "execution_count": 41,
   "id": "03eedcf2",
   "metadata": {},
   "outputs": [],
   "source": [
    "furnish_value = {'Furnishing': {'Unfurnished': 0, 'Semi_Furnished': 1, 'Fully Furnished': 2}}"
   ]
  },
  {
   "cell_type": "code",
   "execution_count": 42,
   "id": "bf58aea9",
   "metadata": {},
   "outputs": [],
   "source": [
    "train.replace(furnish_value, inplace = True)"
   ]
  },
  {
   "cell_type": "code",
   "execution_count": 43,
   "id": "02a52b37",
   "metadata": {},
   "outputs": [],
   "source": [
    "test.replace(furnish_value, inplace = True)"
   ]
  },
  {
   "cell_type": "markdown",
   "id": "d974c2cd",
   "metadata": {},
   "source": [
    "# Frequency of Powercuts"
   ]
  },
  {
   "cell_type": "code",
   "execution_count": 44,
   "id": "9a1111ed",
   "metadata": {},
   "outputs": [
    {
     "data": {
      "text/plain": [
       "(0.0, 3.0)"
      ]
     },
     "execution_count": 44,
     "metadata": {},
     "output_type": "execute_result"
    }
   ],
   "source": [
    "train['Frequency_of_Powercuts'].min(), train['Frequency_of_Powercuts'].max()"
   ]
  },
  {
   "cell_type": "code",
   "execution_count": 45,
   "id": "e9c596e8",
   "metadata": {},
   "outputs": [
    {
     "data": {
      "text/plain": [
       "<AxesSubplot:ylabel='Frequency'>"
      ]
     },
     "execution_count": 45,
     "metadata": {},
     "output_type": "execute_result"
    },
    {
     "data": {
      "image/png": "[encoded data removed]",
      "text/plain": [
       "<Figure size 432x288 with 1 Axes>"
      ]
     },
     "metadata": {
      "needs_background": "light"
     },
     "output_type": "display_data"
    }
   ],
   "source": [
    "train['Frequency_of_Powercuts'].plot.hist(bins=4)"
   ]
  },
  {
   "cell_type": "markdown",
   "id": "f616afcc",
   "metadata": {},
   "source": [
    "# Power Backup"
   ]
  },
  {
   "cell_type": "code",
   "execution_count": 46,
   "id": "b1009671",
   "metadata": {},
   "outputs": [
    {
     "data": {
      "text/plain": [
       "No               29714\n",
       "Yes               8957\n",
       "NOT MENTIONED      828\n",
       "Name: Power_Backup, dtype: int64"
      ]
     },
     "execution_count": 46,
     "metadata": {},
     "output_type": "execute_result"
    }
   ],
   "source": [
    "train['Power_Backup'].value_counts()"
   ]
  },
  {
   "cell_type": "code",
   "execution_count": 47,
   "id": "3b534167",
   "metadata": {},
   "outputs": [],
   "source": [
    "train.replace({'Power_Backup' : {'No': 0, 'Yes': 1, 'NOT MENTIONED' : 0}}, inplace=True)"
   ]
  },
  {
   "cell_type": "code",
   "execution_count": 48,
   "id": "0d26821e",
   "metadata": {},
   "outputs": [],
   "source": [
    "test.replace({'Power_Backup' : {'No': 0, 'Yes': 1, 'NOT MENTIONED' : 0}}, inplace=True)"
   ]
  },
  {
   "cell_type": "markdown",
   "id": "887b65d9",
   "metadata": {},
   "source": [
    "# Water supply encoding"
   ]
  },
  {
   "cell_type": "code",
   "execution_count": 49,
   "id": "dd543117",
   "metadata": {},
   "outputs": [
    {
     "data": {
      "text/html": [
       "<style>#sk-container-id-2 {color: black;background-color: white;}#sk-container-id-2 pre{padding: 0;}#sk-container-id-2 div.sk-toggleable {background-color: white;}#sk-container-id-2 label.sk-toggleable__label {cursor: pointer;display: block;width: 100%;margin-bottom: 0;padding: 0.3em;box-sizing: border-box;text-align: center;}#sk-container-id-2 label.sk-toggleable__label-arrow:before {content: \"▸\";float: left;margin-right: 0.25em;color: #696969;}#sk-container-id-2 label.sk-toggleable__label-arrow:hover:before {color: black;}#sk-container-id-2 div.sk-estimator:hover label.sk-toggleable__label-arrow:before {color: black;}#sk-container-id-2 div.sk-toggleable__content {max-height: 0;max-width: 0;overflow: hidden;text-align: left;background-color: #f0f8ff;}#sk-container-id-2 div.sk-toggleable__content pre {margin: 0.2em;color: black;border-radius: 0.25em;background-color: #f0f8ff;}#sk-container-id-2 input.sk-toggleable__control:checked~div.sk-toggleable__content {max-height: 200px;max-width: 100%;overflow: auto;}#sk-container-id-2 input.sk-toggleable__control:checked~label.sk-toggleable__label-arrow:before {content: \"▾\";}#sk-container-id-2 div.sk-estimator input.sk-toggleable__control:checked~label.sk-toggleable__label {background-color: #d4ebff;}#sk-container-id-2 div.sk-label input.sk-toggleable__control:checked~label.sk-toggleable__label {background-color: #d4ebff;}#sk-container-id-2 input.sk-hidden--visually {border: 0;clip: rect(1px 1px 1px 1px);clip: rect(1px, 1px, 1px, 1px);height: 1px;margin: -1px;overflow: hidden;padding: 0;position: absolute;width: 1px;}#sk-container-id-2 div.sk-estimator {font-family: monospace;background-color: #f0f8ff;border: 1px dotted black;border-radius: 0.25em;box-sizing: border-box;margin-bottom: 0.5em;}#sk-container-id-2 div.sk-estimator:hover {background-color: #d4ebff;}#sk-container-id-2 div.sk-parallel-item::after {content: \"\";width: 100%;border-bottom: 1px solid gray;flex-grow: 1;}#sk-container-id-2 div.sk-label:hover label.sk-toggleable__label {background-color: #d4ebff;}#sk-container-id-2 div.sk-serial::before {content: \"\";position: absolute;border-left: 1px solid gray;box-sizing: border-box;top: 0;bottom: 0;left: 50%;z-index: 0;}#sk-container-id-2 div.sk-serial {display: flex;flex-direction: column;align-items: center;background-color: white;padding-right: 0.2em;padding-left: 0.2em;position: relative;}#sk-container-id-2 div.sk-item {position: relative;z-index: 1;}#sk-container-id-2 div.sk-parallel {display: flex;align-items: stretch;justify-content: center;background-color: white;position: relative;}#sk-container-id-2 div.sk-item::before, #sk-container-id-2 div.sk-parallel-item::before {content: \"\";position: absolute;border-left: 1px solid gray;box-sizing: border-box;top: 0;bottom: 0;left: 50%;z-index: -1;}#sk-container-id-2 div.sk-parallel-item {display: flex;flex-direction: column;z-index: 1;position: relative;background-color: white;}#sk-container-id-2 div.sk-parallel-item:first-child::after {align-self: flex-end;width: 50%;}#sk-container-id-2 div.sk-parallel-item:last-child::after {align-self: flex-start;width: 50%;}#sk-container-id-2 div.sk-parallel-item:only-child::after {width: 0;}#sk-container-id-2 div.sk-dashed-wrapped {border: 1px dashed gray;margin: 0 0.4em 0.5em 0.4em;box-sizing: border-box;padding-bottom: 0.4em;background-color: white;}#sk-container-id-2 div.sk-label label {font-family: monospace;font-weight: bold;display: inline-block;line-height: 1.2em;}#sk-container-id-2 div.sk-label-container {text-align: center;}#sk-container-id-2 div.sk-container {/* jupyter's `normalize.less` sets `[hidden] { display: none; }` but bootstrap.min.css set `[hidden] { display: none !important; }` so we also need the `!important` here to be able to override the default hidden behavior on the sphinx rendered scikit-learn.org. See: https://github.com/scikit-learn/scikit-learn/issues/21755 */display: inline-block !important;position: relative;}#sk-container-id-2 div.sk-text-repr-fallback {display: none;}</style><div id=\"sk-container-id-2\" class=\"sk-top-container\"><div class=\"sk-text-repr-fallback\"><pre>OneHotEncoder()</pre><b>In a Jupyter environment, please rerun this cell to show the HTML representation or trust the notebook. <br />On GitHub, the HTML representation is unable to render, please try loading this page with nbviewer.org.</b></div><div class=\"sk-container\" hidden><div class=\"sk-item\"><div class=\"sk-estimator sk-toggleable\"><input class=\"sk-toggleable__control sk-hidden--visually\" id=\"sk-estimator-id-2\" type=\"checkbox\" checked><label for=\"sk-estimator-id-2\" class=\"sk-toggleable__label sk-toggleable__label-arrow\">OneHotEncoder</label><div class=\"sk-toggleable__content\"><pre>OneHotEncoder()</pre></div></div></div></div></div>"
      ],
      "text/plain": [
       "OneHotEncoder()"
      ]
     },
     "execution_count": 49,
     "metadata": {},
     "output_type": "execute_result"
    }
   ],
   "source": [
    "water_supply_encoder = OneHotEncoder()\n",
    "water_supply_encoder.fit(train[['Water_Supply']])"
   ]
  },
  {
   "cell_type": "code",
   "execution_count": 50,
   "id": "1707eb97",
   "metadata": {},
   "outputs": [],
   "source": [
    "water_supply_encoder_column_names = water_supply_encoder.get_feature_names(['Water_Supply'])"
   ]
  },
  {
   "cell_type": "code",
   "execution_count": 51,
   "id": "6a5b36d6",
   "metadata": {},
   "outputs": [
    {
     "data": {
      "text/plain": [
       "array(['Water_Supply_All time', 'Water_Supply_NOT MENTIONED',\n",
       "       'Water_Supply_Once in a day - Evening',\n",
       "       'Water_Supply_Once in a day - Morning',\n",
       "       'Water_Supply_Once in two days'], dtype=object)"
      ]
     },
     "execution_count": 51,
     "metadata": {},
     "output_type": "execute_result"
    }
   ],
   "source": [
    "water_supply_encoder_column_names"
   ]
  },
  {
   "cell_type": "code",
   "execution_count": 52,
   "id": "3be48bef",
   "metadata": {},
   "outputs": [],
   "source": [
    "encoded_data = pd.DataFrame(water_supply_encoder.transform(train[['Water_Supply']]).toarray(), \n",
    "                            columns = water_supply_encoder_column_names, index = train.index)"
   ]
  },
  {
   "cell_type": "code",
   "execution_count": 53,
   "id": "e86717ce",
   "metadata": {},
   "outputs": [],
   "source": [
    "train = pd.concat([train, encoded_data], axis=1)"
   ]
  },
  {
   "cell_type": "code",
   "execution_count": 54,
   "id": "be952b01",
   "metadata": {},
   "outputs": [],
   "source": [
    "train.drop('Water_Supply', axis=1, inplace=True)"
   ]
  },
  {
   "cell_type": "code",
   "execution_count": 55,
   "id": "c7532075",
   "metadata": {},
   "outputs": [
    {
     "data": {
      "text/html": [
       "<div>\n",
       "<style scoped>\n",
       "    .dataframe tbody tr th:only-of-type {\n",
       "        vertical-align: middle;\n",
       "    }\n",
       "\n",
       "    .dataframe tbody tr th {\n",
       "        vertical-align: top;\n",
       "    }\n",
       "\n",
       "    .dataframe thead th {\n",
       "        text-align: right;\n",
       "    }\n",
       "</style>\n",
       "<table border=\"1\" class=\"dataframe\">\n",
       "  <thead>\n",
       "    <tr style=\"text-align: right;\">\n",
       "      <th></th>\n",
       "      <th>Property_Area</th>\n",
       "      <th>Number_of_Windows</th>\n",
       "      <th>Number_of_Doors</th>\n",
       "      <th>Furnishing</th>\n",
       "      <th>Frequency_of_Powercuts</th>\n",
       "      <th>Power_Backup</th>\n",
       "      <th>Traffic_Density_Score</th>\n",
       "      <th>Crime_Rate</th>\n",
       "      <th>Dust_and_Noise</th>\n",
       "      <th>Air_Quality_Index</th>\n",
       "      <th>...</th>\n",
       "      <th>Property_Type_Apartment</th>\n",
       "      <th>Property_Type_Bungalow</th>\n",
       "      <th>Property_Type_Container Home</th>\n",
       "      <th>Property_Type_Duplex</th>\n",
       "      <th>Property_Type_Single-family home</th>\n",
       "      <th>Water_Supply_All time</th>\n",
       "      <th>Water_Supply_NOT MENTIONED</th>\n",
       "      <th>Water_Supply_Once in a day - Evening</th>\n",
       "      <th>Water_Supply_Once in a day - Morning</th>\n",
       "      <th>Water_Supply_Once in two days</th>\n",
       "    </tr>\n",
       "    <tr>\n",
       "      <th>Property_ID</th>\n",
       "      <th></th>\n",
       "      <th></th>\n",
       "      <th></th>\n",
       "      <th></th>\n",
       "      <th></th>\n",
       "      <th></th>\n",
       "      <th></th>\n",
       "      <th></th>\n",
       "      <th></th>\n",
       "      <th></th>\n",
       "      <th></th>\n",
       "      <th></th>\n",
       "      <th></th>\n",
       "      <th></th>\n",
       "      <th></th>\n",
       "      <th></th>\n",
       "      <th></th>\n",
       "      <th></th>\n",
       "      <th></th>\n",
       "      <th></th>\n",
       "      <th></th>\n",
       "    </tr>\n",
       "  </thead>\n",
       "  <tbody>\n",
       "    <tr>\n",
       "      <th>0x21e3</th>\n",
       "      <td>106</td>\n",
       "      <td>4.0</td>\n",
       "      <td>1</td>\n",
       "      <td>1</td>\n",
       "      <td>0.0</td>\n",
       "      <td>0</td>\n",
       "      <td>5.89</td>\n",
       "      <td>Slightly below average</td>\n",
       "      <td>Medium</td>\n",
       "      <td>90.0</td>\n",
       "      <td>...</td>\n",
       "      <td>1.0</td>\n",
       "      <td>0.0</td>\n",
       "      <td>0.0</td>\n",
       "      <td>0.0</td>\n",
       "      <td>0.0</td>\n",
       "      <td>0.0</td>\n",
       "      <td>0.0</td>\n",
       "      <td>0.0</td>\n",
       "      <td>1.0</td>\n",
       "      <td>0.0</td>\n",
       "    </tr>\n",
       "    <tr>\n",
       "      <th>0x68d4</th>\n",
       "      <td>733</td>\n",
       "      <td>2.0</td>\n",
       "      <td>2</td>\n",
       "      <td>0</td>\n",
       "      <td>1.0</td>\n",
       "      <td>0</td>\n",
       "      <td>4.37</td>\n",
       "      <td>Well below average</td>\n",
       "      <td>Medium</td>\n",
       "      <td>96.0</td>\n",
       "      <td>...</td>\n",
       "      <td>1.0</td>\n",
       "      <td>0.0</td>\n",
       "      <td>0.0</td>\n",
       "      <td>0.0</td>\n",
       "      <td>0.0</td>\n",
       "      <td>0.0</td>\n",
       "      <td>0.0</td>\n",
       "      <td>1.0</td>\n",
       "      <td>0.0</td>\n",
       "      <td>0.0</td>\n",
       "    </tr>\n",
       "    <tr>\n",
       "      <th>0x7d81</th>\n",
       "      <td>737</td>\n",
       "      <td>4.0</td>\n",
       "      <td>2</td>\n",
       "      <td>2</td>\n",
       "      <td>0.0</td>\n",
       "      <td>0</td>\n",
       "      <td>7.45</td>\n",
       "      <td>Slightly below average</td>\n",
       "      <td>Medium</td>\n",
       "      <td>121.0</td>\n",
       "      <td>...</td>\n",
       "      <td>1.0</td>\n",
       "      <td>0.0</td>\n",
       "      <td>0.0</td>\n",
       "      <td>0.0</td>\n",
       "      <td>0.0</td>\n",
       "      <td>0.0</td>\n",
       "      <td>0.0</td>\n",
       "      <td>0.0</td>\n",
       "      <td>1.0</td>\n",
       "      <td>0.0</td>\n",
       "    </tr>\n",
       "    <tr>\n",
       "      <th>0x7a57</th>\n",
       "      <td>900</td>\n",
       "      <td>3.0</td>\n",
       "      <td>2</td>\n",
       "      <td>0</td>\n",
       "      <td>2.0</td>\n",
       "      <td>1</td>\n",
       "      <td>6.16</td>\n",
       "      <td>Well above average</td>\n",
       "      <td>Medium</td>\n",
       "      <td>100.0</td>\n",
       "      <td>...</td>\n",
       "      <td>1.0</td>\n",
       "      <td>0.0</td>\n",
       "      <td>0.0</td>\n",
       "      <td>0.0</td>\n",
       "      <td>0.0</td>\n",
       "      <td>0.0</td>\n",
       "      <td>0.0</td>\n",
       "      <td>0.0</td>\n",
       "      <td>1.0</td>\n",
       "      <td>0.0</td>\n",
       "    </tr>\n",
       "    <tr>\n",
       "      <th>0x9409</th>\n",
       "      <td>2238</td>\n",
       "      <td>14.0</td>\n",
       "      <td>6</td>\n",
       "      <td>2</td>\n",
       "      <td>0.0</td>\n",
       "      <td>0</td>\n",
       "      <td>5.46</td>\n",
       "      <td>Well below average</td>\n",
       "      <td>Medium</td>\n",
       "      <td>116.0</td>\n",
       "      <td>...</td>\n",
       "      <td>0.0</td>\n",
       "      <td>1.0</td>\n",
       "      <td>0.0</td>\n",
       "      <td>0.0</td>\n",
       "      <td>0.0</td>\n",
       "      <td>1.0</td>\n",
       "      <td>0.0</td>\n",
       "      <td>0.0</td>\n",
       "      <td>0.0</td>\n",
       "      <td>0.0</td>\n",
       "    </tr>\n",
       "  </tbody>\n",
       "</table>\n",
       "<p>5 rows × 23 columns</p>\n",
       "</div>"
      ],
      "text/plain": [
       "             Property_Area  Number_of_Windows  Number_of_Doors  Furnishing  \\\n",
       "Property_ID                                                                  \n",
       "0x21e3                 106                4.0                1           1   \n",
       "0x68d4                 733                2.0                2           0   \n",
       "0x7d81                 737                4.0                2           2   \n",
       "0x7a57                 900                3.0                2           0   \n",
       "0x9409                2238               14.0                6           2   \n",
       "\n",
       "             Frequency_of_Powercuts  Power_Backup  Traffic_Density_Score  \\\n",
       "Property_ID                                                                \n",
       "0x21e3                          0.0             0                   5.89   \n",
       "0x68d4                          1.0             0                   4.37   \n",
       "0x7d81                          0.0             0                   7.45   \n",
       "0x7a57                          2.0             1                   6.16   \n",
       "0x9409                          0.0             0                   5.46   \n",
       "\n",
       "                         Crime_Rate Dust_and_Noise  Air_Quality_Index  ...  \\\n",
       "Property_ID                                                            ...   \n",
       "0x21e3       Slightly below average         Medium               90.0  ...   \n",
       "0x68d4           Well below average         Medium               96.0  ...   \n",
       "0x7d81       Slightly below average         Medium              121.0  ...   \n",
       "0x7a57           Well above average         Medium              100.0  ...   \n",
       "0x9409           Well below average         Medium              116.0  ...   \n",
       "\n",
       "             Property_Type_Apartment  Property_Type_Bungalow  \\\n",
       "Property_ID                                                    \n",
       "0x21e3                           1.0                     0.0   \n",
       "0x68d4                           1.0                     0.0   \n",
       "0x7d81                           1.0                     0.0   \n",
       "0x7a57                           1.0                     0.0   \n",
       "0x9409                           0.0                     1.0   \n",
       "\n",
       "             Property_Type_Container Home  Property_Type_Duplex  \\\n",
       "Property_ID                                                       \n",
       "0x21e3                                0.0                   0.0   \n",
       "0x68d4                                0.0                   0.0   \n",
       "0x7d81                                0.0                   0.0   \n",
       "0x7a57                                0.0                   0.0   \n",
       "0x9409                                0.0                   0.0   \n",
       "\n",
       "             Property_Type_Single-family home  Water_Supply_All time  \\\n",
       "Property_ID                                                            \n",
       "0x21e3                                    0.0                    0.0   \n",
       "0x68d4                                    0.0                    0.0   \n",
       "0x7d81                                    0.0                    0.0   \n",
       "0x7a57                                    0.0                    0.0   \n",
       "0x9409                                    0.0                    1.0   \n",
       "\n",
       "             Water_Supply_NOT MENTIONED  Water_Supply_Once in a day - Evening  \\\n",
       "Property_ID                                                                     \n",
       "0x21e3                              0.0                                   0.0   \n",
       "0x68d4                              0.0                                   1.0   \n",
       "0x7d81                              0.0                                   0.0   \n",
       "0x7a57                              0.0                                   0.0   \n",
       "0x9409                              0.0                                   0.0   \n",
       "\n",
       "             Water_Supply_Once in a day - Morning  \\\n",
       "Property_ID                                         \n",
       "0x21e3                                        1.0   \n",
       "0x68d4                                        0.0   \n",
       "0x7d81                                        1.0   \n",
       "0x7a57                                        1.0   \n",
       "0x9409                                        0.0   \n",
       "\n",
       "             Water_Supply_Once in two days  \n",
       "Property_ID                                 \n",
       "0x21e3                                 0.0  \n",
       "0x68d4                                 0.0  \n",
       "0x7d81                                 0.0  \n",
       "0x7a57                                 0.0  \n",
       "0x9409                                 0.0  \n",
       "\n",
       "[5 rows x 23 columns]"
      ]
     },
     "execution_count": 55,
     "metadata": {},
     "output_type": "execute_result"
    }
   ],
   "source": [
    "train.head()"
   ]
  },
  {
   "cell_type": "code",
   "execution_count": 56,
   "id": "6a529208",
   "metadata": {},
   "outputs": [],
   "source": [
    "encoded_data = pd.DataFrame(water_supply_encoder.transform(test[['Water_Supply']]).toarray(), \n",
    "                            columns = water_supply_encoder_column_names, index = test.index)"
   ]
  },
  {
   "cell_type": "code",
   "execution_count": 57,
   "id": "86d01dc4",
   "metadata": {},
   "outputs": [],
   "source": [
    "test = pd.concat([test, encoded_data], axis=1)"
   ]
  },
  {
   "cell_type": "code",
   "execution_count": 58,
   "id": "798925cf",
   "metadata": {},
   "outputs": [],
   "source": [
    "test.drop('Water_Supply', axis=1, inplace=True)"
   ]
  },
  {
   "cell_type": "markdown",
   "id": "264cc415",
   "metadata": {},
   "source": [
    "# Traffic Density Score"
   ]
  },
  {
   "cell_type": "code",
   "execution_count": 59,
   "id": "66549c3b",
   "metadata": {},
   "outputs": [
    {
     "data": {
      "text/plain": [
       "(0.0, 9.91)"
      ]
     },
     "execution_count": 59,
     "metadata": {},
     "output_type": "execute_result"
    }
   ],
   "source": [
    "train['Traffic_Density_Score'].min(), train['Traffic_Density_Score'].max()"
   ]
  },
  {
   "cell_type": "code",
   "execution_count": 60,
   "id": "fda9615f",
   "metadata": {},
   "outputs": [
    {
     "data": {
      "text/plain": [
       "<AxesSubplot:ylabel='Frequency'>"
      ]
     },
     "execution_count": 60,
     "metadata": {},
     "output_type": "execute_result"
    },
    {
     "data": {
      "image/png": "[encoded data removed]",
      "text/plain": [
       "<Figure size 432x288 with 1 Axes>"
      ]
     },
     "metadata": {
      "needs_background": "light"
     },
     "output_type": "display_data"
    }
   ],
   "source": [
    "train['Traffic_Density_Score'].plot.hist(bins=10)"
   ]
  },
  {
   "cell_type": "markdown",
   "id": "46704480",
   "metadata": {},
   "source": [
    "# Crime rate"
   ]
  },
  {
   "cell_type": "code",
   "execution_count": 61,
   "id": "4c7b5469",
   "metadata": {},
   "outputs": [
    {
     "data": {
      "text/plain": [
       "Well below average        19864\n",
       "Slightly below average    11804\n",
       "Slightly above average     5414\n",
       "Well above average         2417\n",
       "Name: Crime_Rate, dtype: int64"
      ]
     },
     "execution_count": 61,
     "metadata": {},
     "output_type": "execute_result"
    }
   ],
   "source": [
    "train['Crime_Rate'].value_counts()"
   ]
  },
  {
   "cell_type": "code",
   "execution_count": 62,
   "id": "ee41cc67",
   "metadata": {},
   "outputs": [],
   "source": [
    "crime_rate_values = {'Crime_Rate': {'Well below average': 0, 'Slightly below average': 1, \n",
    "                                    'Slightly above average': 2, 'Well above average': 3}}"
   ]
  },
  {
   "cell_type": "code",
   "execution_count": 63,
   "id": "9eefd962",
   "metadata": {},
   "outputs": [],
   "source": [
    "train.replace(crime_rate_values, inplace=True)"
   ]
  },
  {
   "cell_type": "code",
   "execution_count": 64,
   "id": "a9b2d78a",
   "metadata": {},
   "outputs": [],
   "source": [
    "test.replace(crime_rate_values, inplace=True)"
   ]
  },
  {
   "cell_type": "markdown",
   "id": "762930ba",
   "metadata": {},
   "source": [
    "# Dust and Noise"
   ]
  },
  {
   "cell_type": "code",
   "execution_count": 65,
   "id": "1abe5036",
   "metadata": {},
   "outputs": [
    {
     "data": {
      "text/plain": [
       "Medium    34057\n",
       "High       3300\n",
       "Low        2142\n",
       "Name: Dust_and_Noise, dtype: int64"
      ]
     },
     "execution_count": 65,
     "metadata": {},
     "output_type": "execute_result"
    }
   ],
   "source": [
    "train['Dust_and_Noise'].value_counts()"
   ]
  },
  {
   "cell_type": "code",
   "execution_count": 66,
   "id": "7ecd4390",
   "metadata": {},
   "outputs": [],
   "source": [
    "dust_values = {'Dust_and_Noise': {'Low': 0, 'Medium': 1, 'High': 2}}"
   ]
  },
  {
   "cell_type": "code",
   "execution_count": 67,
   "id": "b3c4499b",
   "metadata": {},
   "outputs": [],
   "source": [
    "train.replace(dust_values, inplace=True)"
   ]
  },
  {
   "cell_type": "code",
   "execution_count": 68,
   "id": "00c263b0",
   "metadata": {},
   "outputs": [],
   "source": [
    "test.replace(dust_values, inplace=True)"
   ]
  },
  {
   "cell_type": "markdown",
   "id": "2dd62f79",
   "metadata": {},
   "source": [
    "# Air Quality index"
   ]
  },
  {
   "cell_type": "code",
   "execution_count": 69,
   "id": "6cec8e38",
   "metadata": {},
   "outputs": [
    {
     "data": {
      "text/plain": [
       "(0.0, 1044.0)"
      ]
     },
     "execution_count": 69,
     "metadata": {},
     "output_type": "execute_result"
    }
   ],
   "source": [
    "train['Air_Quality_Index'].min(), train['Air_Quality_Index'].max()"
   ]
  },
  {
   "cell_type": "code",
   "execution_count": 70,
   "id": "30ee414b",
   "metadata": {},
   "outputs": [
    {
     "data": {
      "text/plain": [
       "<AxesSubplot:ylabel='Density'>"
      ]
     },
     "execution_count": 70,
     "metadata": {},
     "output_type": "execute_result"
    },
    {
     "data": {
      "image/png": "[encoded data removed]",
      "text/plain": [
       "<Figure size 432x288 with 1 Axes>"
      ]
     },
     "metadata": {
      "needs_background": "light"
     },
     "output_type": "display_data"
    }
   ],
   "source": [
    "train['Air_Quality_Index'].plot.kde()"
   ]
  },
  {
   "cell_type": "markdown",
   "id": "09fed99d",
   "metadata": {},
   "source": [
    "# Neighborhood review"
   ]
  },
  {
   "cell_type": "code",
   "execution_count": 71,
   "id": "841b5841",
   "metadata": {},
   "outputs": [
    {
     "data": {
      "text/plain": [
       "(0.0, 5.0)"
      ]
     },
     "execution_count": 71,
     "metadata": {},
     "output_type": "execute_result"
    }
   ],
   "source": [
    "train['Neighborhood_Review'].min(), train['Neighborhood_Review'].max()"
   ]
  },
  {
   "cell_type": "code",
   "execution_count": 72,
   "id": "31fe1f79",
   "metadata": {},
   "outputs": [
    {
     "data": {
      "text/plain": [
       "<AxesSubplot:ylabel='Frequency'>"
      ]
     },
     "execution_count": 72,
     "metadata": {},
     "output_type": "execute_result"
    },
    {
     "data": {
      "image/png": "[encoded data removed]",
      "text/plain": [
       "<Figure size 432x288 with 1 Axes>"
      ]
     },
     "metadata": {
      "needs_background": "light"
     },
     "output_type": "display_data"
    }
   ],
   "source": [
    "train['Neighborhood_Review'].plot.hist(bins=6)"
   ]
  },
  {
   "cell_type": "markdown",
   "id": "96390f7c",
   "metadata": {},
   "source": [
    "# 5 Data splitting"
   ]
  },
  {
   "cell_type": "code",
   "execution_count": 73,
   "id": "0f0642da",
   "metadata": {},
   "outputs": [],
   "source": [
    "x_train = train.drop(\"Habitability_score\", axis=1)\n",
    "y_train = train[\"Habitability_score\"]"
   ]
  },
  {
   "cell_type": "code",
   "execution_count": 74,
   "id": "ca56a32f",
   "metadata": {},
   "outputs": [
    {
     "data": {
      "text/plain": [
       "((39499, 22), (39499,), (10500, 22))"
      ]
     },
     "execution_count": 74,
     "metadata": {},
     "output_type": "execute_result"
    }
   ],
   "source": [
    "x_train.shape, y_train.shape, test.shape"
   ]
  },
  {
   "cell_type": "markdown",
   "id": "2dabf969",
   "metadata": {},
   "source": [
    "# 6. Data Scaling"
   ]
  },
  {
   "cell_type": "code",
   "execution_count": 75,
   "id": "20d355a1",
   "metadata": {},
   "outputs": [
    {
     "data": {
      "text/plain": [
       "(7.28, 100.0)"
      ]
     },
     "execution_count": 75,
     "metadata": {},
     "output_type": "execute_result"
    }
   ],
   "source": [
    "y_train.min(), y_train.max()"
   ]
  },
  {
   "cell_type": "code",
   "execution_count": 76,
   "id": "4fb0dacc",
   "metadata": {},
   "outputs": [
    {
     "data": {
      "text/plain": [
       "<AxesSubplot:ylabel='Density'>"
      ]
     },
     "execution_count": 76,
     "metadata": {},
     "output_type": "execute_result"
    },
    {
     "data": {
      "image/png": "[encoded data removed]",
      "text/plain": [
       "<Figure size 432x288 with 1 Axes>"
      ]
     },
     "metadata": {
      "needs_background": "light"
     },
     "output_type": "display_data"
    }
   ],
   "source": [
    "y_train.plot.kde()"
   ]
  },
  {
   "cell_type": "code",
   "execution_count": 77,
   "id": "36ccbf05",
   "metadata": {},
   "outputs": [],
   "source": [
    "y_train = np.log(y_train)"
   ]
  },
  {
   "cell_type": "code",
   "execution_count": 78,
   "id": "03f59c89",
   "metadata": {},
   "outputs": [],
   "source": [
    "scaler = StandardScaler()"
   ]
  },
  {
   "cell_type": "code",
   "execution_count": 79,
   "id": "4a88b85e",
   "metadata": {},
   "outputs": [
    {
     "data": {
      "text/html": [
       "<style>#sk-container-id-3 {color: black;background-color: white;}#sk-container-id-3 pre{padding: 0;}#sk-container-id-3 div.sk-toggleable {background-color: white;}#sk-container-id-3 label.sk-toggleable__label {cursor: pointer;display: block;width: 100%;margin-bottom: 0;padding: 0.3em;box-sizing: border-box;text-align: center;}#sk-container-id-3 label.sk-toggleable__label-arrow:before {content: \"▸\";float: left;margin-right: 0.25em;color: #696969;}#sk-container-id-3 label.sk-toggleable__label-arrow:hover:before {color: black;}#sk-container-id-3 div.sk-estimator:hover label.sk-toggleable__label-arrow:before {color: black;}#sk-container-id-3 div.sk-toggleable__content {max-height: 0;max-width: 0;overflow: hidden;text-align: left;background-color: #f0f8ff;}#sk-container-id-3 div.sk-toggleable__content pre {margin: 0.2em;color: black;border-radius: 0.25em;background-color: #f0f8ff;}#sk-container-id-3 input.sk-toggleable__control:checked~div.sk-toggleable__content {max-height: 200px;max-width: 100%;overflow: auto;}#sk-container-id-3 input.sk-toggleable__control:checked~label.sk-toggleable__label-arrow:before {content: \"▾\";}#sk-container-id-3 div.sk-estimator input.sk-toggleable__control:checked~label.sk-toggleable__label {background-color: #d4ebff;}#sk-container-id-3 div.sk-label input.sk-toggleable__control:checked~label.sk-toggleable__label {background-color: #d4ebff;}#sk-container-id-3 input.sk-hidden--visually {border: 0;clip: rect(1px 1px 1px 1px);clip: rect(1px, 1px, 1px, 1px);height: 1px;margin: -1px;overflow: hidden;padding: 0;position: absolute;width: 1px;}#sk-container-id-3 div.sk-estimator {font-family: monospace;background-color: #f0f8ff;border: 1px dotted black;border-radius: 0.25em;box-sizing: border-box;margin-bottom: 0.5em;}#sk-container-id-3 div.sk-estimator:hover {background-color: #d4ebff;}#sk-container-id-3 div.sk-parallel-item::after {content: \"\";width: 100%;border-bottom: 1px solid gray;flex-grow: 1;}#sk-container-id-3 div.sk-label:hover label.sk-toggleable__label {background-color: #d4ebff;}#sk-container-id-3 div.sk-serial::before {content: \"\";position: absolute;border-left: 1px solid gray;box-sizing: border-box;top: 0;bottom: 0;left: 50%;z-index: 0;}#sk-container-id-3 div.sk-serial {display: flex;flex-direction: column;align-items: center;background-color: white;padding-right: 0.2em;padding-left: 0.2em;position: relative;}#sk-container-id-3 div.sk-item {position: relative;z-index: 1;}#sk-container-id-3 div.sk-parallel {display: flex;align-items: stretch;justify-content: center;background-color: white;position: relative;}#sk-container-id-3 div.sk-item::before, #sk-container-id-3 div.sk-parallel-item::before {content: \"\";position: absolute;border-left: 1px solid gray;box-sizing: border-box;top: 0;bottom: 0;left: 50%;z-index: -1;}#sk-container-id-3 div.sk-parallel-item {display: flex;flex-direction: column;z-index: 1;position: relative;background-color: white;}#sk-container-id-3 div.sk-parallel-item:first-child::after {align-self: flex-end;width: 50%;}#sk-container-id-3 div.sk-parallel-item:last-child::after {align-self: flex-start;width: 50%;}#sk-container-id-3 div.sk-parallel-item:only-child::after {width: 0;}#sk-container-id-3 div.sk-dashed-wrapped {border: 1px dashed gray;margin: 0 0.4em 0.5em 0.4em;box-sizing: border-box;padding-bottom: 0.4em;background-color: white;}#sk-container-id-3 div.sk-label label {font-family: monospace;font-weight: bold;display: inline-block;line-height: 1.2em;}#sk-container-id-3 div.sk-label-container {text-align: center;}#sk-container-id-3 div.sk-container {/* jupyter's `normalize.less` sets `[hidden] { display: none; }` but bootstrap.min.css set `[hidden] { display: none !important; }` so we also need the `!important` here to be able to override the default hidden behavior on the sphinx rendered scikit-learn.org. See: https://github.com/scikit-learn/scikit-learn/issues/21755 */display: inline-block !important;position: relative;}#sk-container-id-3 div.sk-text-repr-fallback {display: none;}</style><div id=\"sk-container-id-3\" class=\"sk-top-container\"><div class=\"sk-text-repr-fallback\"><pre>StandardScaler()</pre><b>In a Jupyter environment, please rerun this cell to show the HTML representation or trust the notebook. <br />On GitHub, the HTML representation is unable to render, please try loading this page with nbviewer.org.</b></div><div class=\"sk-container\" hidden><div class=\"sk-item\"><div class=\"sk-estimator sk-toggleable\"><input class=\"sk-toggleable__control sk-hidden--visually\" id=\"sk-estimator-id-3\" type=\"checkbox\" checked><label for=\"sk-estimator-id-3\" class=\"sk-toggleable__label sk-toggleable__label-arrow\">StandardScaler</label><div class=\"sk-toggleable__content\"><pre>StandardScaler()</pre></div></div></div></div></div>"
      ],
      "text/plain": [
       "StandardScaler()"
      ]
     },
     "execution_count": 79,
     "metadata": {},
     "output_type": "execute_result"
    }
   ],
   "source": [
    "scaler.fit(x_train)"
   ]
  },
  {
   "cell_type": "code",
   "execution_count": 80,
   "id": "30b512d8",
   "metadata": {},
   "outputs": [],
   "source": [
    "feature_columns = x_train.columns\n",
    "train_index = x_train.index\n",
    "test_index = test.index"
   ]
  },
  {
   "cell_type": "code",
   "execution_count": 81,
   "id": "44505656",
   "metadata": {},
   "outputs": [],
   "source": [
    "x_train = scaler.transform(x_train)\n",
    "x_train = pd.DataFrame(x_train, columns = feature_columns, index=train_index)"
   ]
  },
  {
   "cell_type": "code",
   "execution_count": 82,
   "id": "2d510d9b",
   "metadata": {},
   "outputs": [],
   "source": [
    "test = scaler.transform(test)\n",
    "test = pd.DataFrame(test, columns = feature_columns, index=test_index)"
   ]
  },
  {
   "cell_type": "code",
   "execution_count": 83,
   "id": "bbdd9951",
   "metadata": {},
   "outputs": [
    {
     "data": {
      "text/plain": [
       "Index(['Property_Area', 'Number_of_Windows', 'Number_of_Doors', 'Furnishing',\n",
       "       'Frequency_of_Powercuts', 'Power_Backup', 'Traffic_Density_Score',\n",
       "       'Crime_Rate', 'Dust_and_Noise', 'Air_Quality_Index',\n",
       "       'Neighborhood_Review', 'Property_Type_#R%$G&867',\n",
       "       'Property_Type_Apartment', 'Property_Type_Bungalow',\n",
       "       'Property_Type_Container Home', 'Property_Type_Duplex',\n",
       "       'Property_Type_Single-family home', 'Water_Supply_All time',\n",
       "       'Water_Supply_NOT MENTIONED', 'Water_Supply_Once in a day - Evening',\n",
       "       'Water_Supply_Once in a day - Morning',\n",
       "       'Water_Supply_Once in two days'],\n",
       "      dtype='object')"
      ]
     },
     "execution_count": 83,
     "metadata": {},
     "output_type": "execute_result"
    }
   ],
   "source": [
    "x_train.columns"
   ]
  },
  {
   "cell_type": "markdown",
   "id": "dd245928",
   "metadata": {},
   "source": [
    "# 7. Model Training"
   ]
  },
  {
   "cell_type": "code",
   "execution_count": 84,
   "id": "70d1bdc6",
   "metadata": {},
   "outputs": [],
   "source": [
    "model = XGBRegressor(n_estimators=1000, max_depth=7, eta=0.1, subsample=0.7, colsample_bytree=0.8)"
   ]
  },
  {
   "cell_type": "code",
   "execution_count": 85,
   "id": "2c0d2f69",
   "metadata": {},
   "outputs": [
    {
     "data": {
      "text/html": [
       "<style>#sk-container-id-4 {color: black;background-color: white;}#sk-container-id-4 pre{padding: 0;}#sk-container-id-4 div.sk-toggleable {background-color: white;}#sk-container-id-4 label.sk-toggleable__label {cursor: pointer;display: block;width: 100%;margin-bottom: 0;padding: 0.3em;box-sizing: border-box;text-align: center;}#sk-container-id-4 label.sk-toggleable__label-arrow:before {content: \"▸\";float: left;margin-right: 0.25em;color: #696969;}#sk-container-id-4 label.sk-toggleable__label-arrow:hover:before {color: black;}#sk-container-id-4 div.sk-estimator:hover label.sk-toggleable__label-arrow:before {color: black;}#sk-container-id-4 div.sk-toggleable__content {max-height: 0;max-width: 0;overflow: hidden;text-align: left;background-color: #f0f8ff;}#sk-container-id-4 div.sk-toggleable__content pre {margin: 0.2em;color: black;border-radius: 0.25em;background-color: #f0f8ff;}#sk-container-id-4 input.sk-toggleable__control:checked~div.sk-toggleable__content {max-height: 200px;max-width: 100%;overflow: auto;}#sk-container-id-4 input.sk-toggleable__control:checked~label.sk-toggleable__label-arrow:before {content: \"▾\";}#sk-container-id-4 div.sk-estimator input.sk-toggleable__control:checked~label.sk-toggleable__label {background-color: #d4ebff;}#sk-container-id-4 div.sk-label input.sk-toggleable__control:checked~label.sk-toggleable__label {background-color: #d4ebff;}#sk-container-id-4 input.sk-hidden--visually {border: 0;clip: rect(1px 1px 1px 1px);clip: rect(1px, 1px, 1px, 1px);height: 1px;margin: -1px;overflow: hidden;padding: 0;position: absolute;width: 1px;}#sk-container-id-4 div.sk-estimator {font-family: monospace;background-color: #f0f8ff;border: 1px dotted black;border-radius: 0.25em;box-sizing: border-box;margin-bottom: 0.5em;}#sk-container-id-4 div.sk-estimator:hover {background-color: #d4ebff;}#sk-container-id-4 div.sk-parallel-item::after {content: \"\";width: 100%;border-bottom: 1px solid gray;flex-grow: 1;}#sk-container-id-4 div.sk-label:hover label.sk-toggleable__label {background-color: #d4ebff;}#sk-container-id-4 div.sk-serial::before {content: \"\";position: absolute;border-left: 1px solid gray;box-sizing: border-box;top: 0;bottom: 0;left: 50%;z-index: 0;}#sk-container-id-4 div.sk-serial {display: flex;flex-direction: column;align-items: center;background-color: white;padding-right: 0.2em;padding-left: 0.2em;position: relative;}#sk-container-id-4 div.sk-item {position: relative;z-index: 1;}#sk-container-id-4 div.sk-parallel {display: flex;align-items: stretch;justify-content: center;background-color: white;position: relative;}#sk-container-id-4 div.sk-item::before, #sk-container-id-4 div.sk-parallel-item::before {content: \"\";position: absolute;border-left: 1px solid gray;box-sizing: border-box;top: 0;bottom: 0;left: 50%;z-index: -1;}#sk-container-id-4 div.sk-parallel-item {display: flex;flex-direction: column;z-index: 1;position: relative;background-color: white;}#sk-container-id-4 div.sk-parallel-item:first-child::after {align-self: flex-end;width: 50%;}#sk-container-id-4 div.sk-parallel-item:last-child::after {align-self: flex-start;width: 50%;}#sk-container-id-4 div.sk-parallel-item:only-child::after {width: 0;}#sk-container-id-4 div.sk-dashed-wrapped {border: 1px dashed gray;margin: 0 0.4em 0.5em 0.4em;box-sizing: border-box;padding-bottom: 0.4em;background-color: white;}#sk-container-id-4 div.sk-label label {font-family: monospace;font-weight: bold;display: inline-block;line-height: 1.2em;}#sk-container-id-4 div.sk-label-container {text-align: center;}#sk-container-id-4 div.sk-container {/* jupyter's `normalize.less` sets `[hidden] { display: none; }` but bootstrap.min.css set `[hidden] { display: none !important; }` so we also need the `!important` here to be able to override the default hidden behavior on the sphinx rendered scikit-learn.org. See: https://github.com/scikit-learn/scikit-learn/issues/21755 */display: inline-block !important;position: relative;}#sk-container-id-4 div.sk-text-repr-fallback {display: none;}</style><div id=\"sk-container-id-4\" class=\"sk-top-container\"><div class=\"sk-text-repr-fallback\"><pre>XGBRegressor(base_score=0.5, booster=&#x27;gbtree&#x27;, callbacks=None,\n",
       "             colsample_bylevel=1, colsample_bynode=1, colsample_bytree=0.8,\n",
       "             early_stopping_rounds=None, enable_categorical=False, eta=0.1,\n",
       "             eval_metric=None, gamma=0, gpu_id=-1, grow_policy=&#x27;depthwise&#x27;,\n",
       "             importance_type=None, interaction_constraints=&#x27;&#x27;,\n",
       "             learning_rate=0.100000001, max_bin=256, max_cat_to_onehot=4,\n",
       "             max_delta_step=0, max_depth=7, max_leaves=0, min_child_weight=1,\n",
       "             missing=nan, monotone_constraints=&#x27;()&#x27;, n_estimators=1000,\n",
       "             n_jobs=0, num_parallel_tree=1, predictor=&#x27;auto&#x27;, random_state=0,\n",
       "             reg_alpha=0, ...)</pre><b>In a Jupyter environment, please rerun this cell to show the HTML representation or trust the notebook. <br />On GitHub, the HTML representation is unable to render, please try loading this page with nbviewer.org.</b></div><div class=\"sk-container\" hidden><div class=\"sk-item\"><div class=\"sk-estimator sk-toggleable\"><input class=\"sk-toggleable__control sk-hidden--visually\" id=\"sk-estimator-id-4\" type=\"checkbox\" checked><label for=\"sk-estimator-id-4\" class=\"sk-toggleable__label sk-toggleable__label-arrow\">XGBRegressor</label><div class=\"sk-toggleable__content\"><pre>XGBRegressor(base_score=0.5, booster=&#x27;gbtree&#x27;, callbacks=None,\n",
       "             colsample_bylevel=1, colsample_bynode=1, colsample_bytree=0.8,\n",
       "             early_stopping_rounds=None, enable_categorical=False, eta=0.1,\n",
       "             eval_metric=None, gamma=0, gpu_id=-1, grow_policy=&#x27;depthwise&#x27;,\n",
       "             importance_type=None, interaction_constraints=&#x27;&#x27;,\n",
       "             learning_rate=0.100000001, max_bin=256, max_cat_to_onehot=4,\n",
       "             max_delta_step=0, max_depth=7, max_leaves=0, min_child_weight=1,\n",
       "             missing=nan, monotone_constraints=&#x27;()&#x27;, n_estimators=1000,\n",
       "             n_jobs=0, num_parallel_tree=1, predictor=&#x27;auto&#x27;, random_state=0,\n",
       "             reg_alpha=0, ...)</pre></div></div></div></div></div>"
      ],
      "text/plain": [
       "XGBRegressor(base_score=0.5, booster='gbtree', callbacks=None,\n",
       "             colsample_bylevel=1, colsample_bynode=1, colsample_bytree=0.8,\n",
       "             early_stopping_rounds=None, enable_categorical=False, eta=0.1,\n",
       "             eval_metric=None, gamma=0, gpu_id=-1, grow_policy='depthwise',\n",
       "             importance_type=None, interaction_constraints='',\n",
       "             learning_rate=0.100000001, max_bin=256, max_cat_to_onehot=4,\n",
       "             max_delta_step=0, max_depth=7, max_leaves=0, min_child_weight=1,\n",
       "             missing=nan, monotone_constraints='()', n_estimators=1000,\n",
       "             n_jobs=0, num_parallel_tree=1, predictor='auto', random_state=0,\n",
       "             reg_alpha=0, ...)"
      ]
     },
     "execution_count": 85,
     "metadata": {},
     "output_type": "execute_result"
    }
   ],
   "source": [
    "model.fit(x_train, y_train)"
   ]
  },
  {
   "cell_type": "markdown",
   "id": "92135b06",
   "metadata": {},
   "source": [
    "# 8. Prediction"
   ]
  },
  {
   "cell_type": "code",
   "execution_count": 86,
   "id": "9881e12e",
   "metadata": {},
   "outputs": [],
   "source": [
    "y_pred = model.predict(test)"
   ]
  },
  {
   "cell_type": "code",
   "execution_count": 87,
   "id": "6cdd087c",
   "metadata": {},
   "outputs": [],
   "source": [
    "y_pred = np.exp(y_pred)"
   ]
  },
  {
   "cell_type": "code",
   "execution_count": 88,
   "id": "f95b0e07",
   "metadata": {
    "scrolled": true
   },
   "outputs": [
    {
     "data": {
      "text/plain": [
       "(12.850514, 103.06715)"
      ]
     },
     "execution_count": 88,
     "metadata": {},
     "output_type": "execute_result"
    }
   ],
   "source": [
    "y_pred.min(), y_pred.max()"
   ]
  },
  {
   "cell_type": "code",
   "execution_count": 89,
   "id": "4dd7f774",
   "metadata": {},
   "outputs": [],
   "source": [
    "y_pred[y_pred>100] = 100.0"
   ]
  },
  {
   "cell_type": "code",
   "execution_count": 90,
   "id": "b1c595b1",
   "metadata": {},
   "outputs": [
    {
     "data": {
      "text/plain": [
       "(12.850514, 100.0)"
      ]
     },
     "execution_count": 90,
     "metadata": {},
     "output_type": "execute_result"
    }
   ],
   "source": [
    "y_pred.min(), y_pred.max()"
   ]
  },
  {
   "cell_type": "markdown",
   "id": "2da148ec",
   "metadata": {},
   "source": [
    "# 9. Submission file"
   ]
  },
  {
   "cell_type": "code",
   "execution_count": 91,
   "id": "c7002d34",
   "metadata": {},
   "outputs": [],
   "source": [
    "sampsub = pd.read_csv(\"data/sample_submission.csv\")"
   ]
  },
  {
   "cell_type": "code",
   "execution_count": 92,
   "id": "eaa29f82",
   "metadata": {},
   "outputs": [
    {
     "data": {
      "text/html": [
       "<div>\n",
       "<style scoped>\n",
       "    .dataframe tbody tr th:only-of-type {\n",
       "        vertical-align: middle;\n",
       "    }\n",
       "\n",
       "    .dataframe tbody tr th {\n",
       "        vertical-align: top;\n",
       "    }\n",
       "\n",
       "    .dataframe thead th {\n",
       "        text-align: right;\n",
       "    }\n",
       "</style>\n",
       "<table border=\"1\" class=\"dataframe\">\n",
       "  <thead>\n",
       "    <tr style=\"text-align: right;\">\n",
       "      <th></th>\n",
       "      <th>Property_ID</th>\n",
       "      <th>Habitability_score</th>\n",
       "    </tr>\n",
       "  </thead>\n",
       "  <tbody>\n",
       "    <tr>\n",
       "      <th>0</th>\n",
       "      <td>0x21e3</td>\n",
       "      <td>71.98</td>\n",
       "    </tr>\n",
       "    <tr>\n",
       "      <th>1</th>\n",
       "      <td>0x68d4</td>\n",
       "      <td>71.20</td>\n",
       "    </tr>\n",
       "    <tr>\n",
       "      <th>2</th>\n",
       "      <td>0x7d81</td>\n",
       "      <td>71.39</td>\n",
       "    </tr>\n",
       "    <tr>\n",
       "      <th>3</th>\n",
       "      <td>0x7a57</td>\n",
       "      <td>31.46</td>\n",
       "    </tr>\n",
       "    <tr>\n",
       "      <th>4</th>\n",
       "      <td>0x9409</td>\n",
       "      <td>93.70</td>\n",
       "    </tr>\n",
       "  </tbody>\n",
       "</table>\n",
       "</div>"
      ],
      "text/plain": [
       "  Property_ID  Habitability_score\n",
       "0      0x21e3               71.98\n",
       "1      0x68d4               71.20\n",
       "2      0x7d81               71.39\n",
       "3      0x7a57               31.46\n",
       "4      0x9409               93.70"
      ]
     },
     "execution_count": 92,
     "metadata": {},
     "output_type": "execute_result"
    }
   ],
   "source": [
    "sampsub.head()"
   ]
  },
  {
   "cell_type": "code",
   "execution_count": 93,
   "id": "207edca5",
   "metadata": {},
   "outputs": [],
   "source": [
    "submission = pd.DataFrame({'Property_ID': test.index, \"Habitability_score\": y_pred})"
   ]
  },
  {
   "cell_type": "code",
   "execution_count": 94,
   "id": "0346f494",
   "metadata": {
    "scrolled": true
   },
   "outputs": [
    {
     "data": {
      "text/html": [
       "<div>\n",
       "<style scoped>\n",
       "    .dataframe tbody tr th:only-of-type {\n",
       "        vertical-align: middle;\n",
       "    }\n",
       "\n",
       "    .dataframe tbody tr th {\n",
       "        vertical-align: top;\n",
       "    }\n",
       "\n",
       "    .dataframe thead th {\n",
       "        text-align: right;\n",
       "    }\n",
       "</style>\n",
       "<table border=\"1\" class=\"dataframe\">\n",
       "  <thead>\n",
       "    <tr style=\"text-align: right;\">\n",
       "      <th></th>\n",
       "      <th>Property_ID</th>\n",
       "      <th>Habitability_score</th>\n",
       "    </tr>\n",
       "  </thead>\n",
       "  <tbody>\n",
       "    <tr>\n",
       "      <th>0</th>\n",
       "      <td>0x6e93</td>\n",
       "      <td>27.434000</td>\n",
       "    </tr>\n",
       "    <tr>\n",
       "      <th>1</th>\n",
       "      <td>0x8787</td>\n",
       "      <td>79.271606</td>\n",
       "    </tr>\n",
       "    <tr>\n",
       "      <th>2</th>\n",
       "      <td>0x6c17</td>\n",
       "      <td>68.196098</td>\n",
       "    </tr>\n",
       "    <tr>\n",
       "      <th>3</th>\n",
       "      <td>0x9dbd</td>\n",
       "      <td>71.042786</td>\n",
       "    </tr>\n",
       "    <tr>\n",
       "      <th>4</th>\n",
       "      <td>0xbfde</td>\n",
       "      <td>76.603233</td>\n",
       "    </tr>\n",
       "  </tbody>\n",
       "</table>\n",
       "</div>"
      ],
      "text/plain": [
       "  Property_ID  Habitability_score\n",
       "0      0x6e93           27.434000\n",
       "1      0x8787           79.271606\n",
       "2      0x6c17           68.196098\n",
       "3      0x9dbd           71.042786\n",
       "4      0xbfde           76.603233"
      ]
     },
     "execution_count": 94,
     "metadata": {},
     "output_type": "execute_result"
    }
   ],
   "source": [
    "submission.head()"
   ]
  },
  {
   "cell_type": "code",
   "execution_count": 95,
   "id": "ac1d51d6",
   "metadata": {},
   "outputs": [],
   "source": [
    "submission.to_csv(\"XGBoost Regressor.csv\", index=False)"
   ]
  },
  {
   "cell_type": "markdown",
   "id": "21132dbc",
   "metadata": {},
   "source": [
    "# 10. Save Model"
   ]
  },
  {
   "cell_type": "code",
   "execution_count": 96,
   "id": "37f9764f",
   "metadata": {},
   "outputs": [],
   "source": [
    "output = open('model/property_type_model.pkl', 'wb')\n",
    "pickle.dump(Property_Type_encoder, output)\n",
    "output.close()"
   ]
  },
  {
   "cell_type": "code",
   "execution_count": 97,
   "id": "a7137b9f",
   "metadata": {},
   "outputs": [],
   "source": [
    "output = open('model/water_supply_model.pkl', 'wb')\n",
    "pickle.dump(water_supply_encoder, output)\n",
    "output.close()"
   ]
  },
  {
   "cell_type": "code",
   "execution_count": 98,
   "id": "12c379b9",
   "metadata": {},
   "outputs": [],
   "source": [
    "output = open('model/scaling_model.pkl', 'wb')\n",
    "pickle.dump(scaler, output)\n",
    "output.close()"
   ]
  },
  {
   "cell_type": "code",
   "execution_count": 99,
   "id": "3a8e6dd7",
   "metadata": {},
   "outputs": [],
   "source": [
    "output = open('model/xgboost_model.pkl', 'wb')\n",
    "pickle.dump(model, output)\n",
    "output.close()"
   ]
  },
  {
   "cell_type": "code",
   "execution_count": null,
   "id": "1b0b817a",
   "metadata": {},
   "outputs": [],
   "source": []
  }
 ],
 "metadata": {
  "kernelspec": {
   "display_name": "Python 3 (ipykernel)",
   "language": "python",
   "name": "python3"
  },
  "language_info": {
   "codemirror_mode": {
    "name": "ipython",
    "version": 3
   },
   "file_extension": ".py",
   "mimetype": "text/x-python",
   "name": "python",
   "nbconvert_exporter": "python",
   "pygments_lexer": "ipython3",
   "version": "3.8.13"
  }
 },
 "nbformat": 4,
 "nbformat_minor": 5
}
